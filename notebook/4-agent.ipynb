{
 "cells": [
  {
   "cell_type": "code",
   "execution_count": 1,
   "metadata": {},
   "outputs": [
    {
     "name": "stdout",
     "output_type": "stream",
     "text": [
      "Requirement already satisfied: dotenv in /opt/app-root/lib64/python3.11/site-packages (0.9.9)\n",
      "Requirement already satisfied: llama_stack_client in /opt/app-root/lib64/python3.11/site-packages (0.2.12)\n",
      "Requirement already satisfied: fire in /opt/app-root/lib64/python3.11/site-packages (0.7.1)\n",
      "Requirement already satisfied: python-dotenv in /opt/app-root/lib64/python3.11/site-packages (from dotenv) (1.1.1)\n",
      "Requirement already satisfied: anyio<5,>=3.5.0 in /opt/app-root/lib64/python3.11/site-packages (from llama_stack_client) (4.9.0)\n",
      "Requirement already satisfied: click in /opt/app-root/lib64/python3.11/site-packages (from llama_stack_client) (8.2.1)\n",
      "Requirement already satisfied: distro<2,>=1.7.0 in /opt/app-root/lib64/python3.11/site-packages (from llama_stack_client) (1.9.0)\n",
      "Requirement already satisfied: httpx<1,>=0.23.0 in /opt/app-root/lib64/python3.11/site-packages (from llama_stack_client) (0.28.1)\n",
      "Requirement already satisfied: pandas in /opt/app-root/lib64/python3.11/site-packages (from llama_stack_client) (2.2.3)\n",
      "Requirement already satisfied: prompt-toolkit in /opt/app-root/lib64/python3.11/site-packages (from llama_stack_client) (3.0.51)\n",
      "Requirement already satisfied: pyaml in /opt/app-root/lib64/python3.11/site-packages (from llama_stack_client) (25.7.0)\n",
      "Requirement already satisfied: pydantic<3,>=1.9.0 in /opt/app-root/lib64/python3.11/site-packages (from llama_stack_client) (1.10.22)\n",
      "Requirement already satisfied: rich in /opt/app-root/lib64/python3.11/site-packages (from llama_stack_client) (13.9.4)\n",
      "Requirement already satisfied: sniffio in /opt/app-root/lib64/python3.11/site-packages (from llama_stack_client) (1.3.1)\n",
      "Requirement already satisfied: termcolor in /opt/app-root/lib64/python3.11/site-packages (from llama_stack_client) (2.3.0)\n",
      "Requirement already satisfied: tqdm in /opt/app-root/lib64/python3.11/site-packages (from llama_stack_client) (4.67.1)\n",
      "Requirement already satisfied: typing-extensions<5,>=4.7 in /opt/app-root/lib64/python3.11/site-packages (from llama_stack_client) (4.14.0)\n",
      "Requirement already satisfied: idna>=2.8 in /opt/app-root/lib64/python3.11/site-packages (from anyio<5,>=3.5.0->llama_stack_client) (3.10)\n",
      "Requirement already satisfied: certifi in /opt/app-root/lib64/python3.11/site-packages (from httpx<1,>=0.23.0->llama_stack_client) (2025.6.15)\n",
      "Requirement already satisfied: httpcore==1.* in /opt/app-root/lib64/python3.11/site-packages (from httpx<1,>=0.23.0->llama_stack_client) (1.0.9)\n",
      "Requirement already satisfied: h11>=0.16 in /opt/app-root/lib64/python3.11/site-packages (from httpcore==1.*->httpx<1,>=0.23.0->llama_stack_client) (0.16.0)\n",
      "Requirement already satisfied: numpy>=1.23.2 in /opt/app-root/lib64/python3.11/site-packages (from pandas->llama_stack_client) (2.2.6)\n",
      "Requirement already satisfied: python-dateutil>=2.8.2 in /opt/app-root/lib64/python3.11/site-packages (from pandas->llama_stack_client) (2.9.0.post0)\n",
      "Requirement already satisfied: pytz>=2020.1 in /opt/app-root/lib64/python3.11/site-packages (from pandas->llama_stack_client) (2025.2)\n",
      "Requirement already satisfied: tzdata>=2022.7 in /opt/app-root/lib64/python3.11/site-packages (from pandas->llama_stack_client) (2025.2)\n",
      "Requirement already satisfied: wcwidth in /opt/app-root/lib64/python3.11/site-packages (from prompt-toolkit->llama_stack_client) (0.2.13)\n",
      "Requirement already satisfied: PyYAML in /opt/app-root/lib64/python3.11/site-packages (from pyaml->llama_stack_client) (6.0.2)\n",
      "Requirement already satisfied: markdown-it-py>=2.2.0 in /opt/app-root/lib64/python3.11/site-packages (from rich->llama_stack_client) (3.0.0)\n",
      "Requirement already satisfied: pygments<3.0.0,>=2.13.0 in /opt/app-root/lib64/python3.11/site-packages (from rich->llama_stack_client) (2.19.1)\n",
      "Requirement already satisfied: mdurl~=0.1 in /opt/app-root/lib64/python3.11/site-packages (from markdown-it-py>=2.2.0->rich->llama_stack_client) (0.1.2)\n",
      "Requirement already satisfied: six>=1.5 in /opt/app-root/lib64/python3.11/site-packages (from python-dateutil>=2.8.2->pandas->llama_stack_client) (1.17.0)\n",
      "\n",
      "\u001b[1m[\u001b[0m\u001b[34;49mnotice\u001b[0m\u001b[1;39;49m]\u001b[0m\u001b[39;49m A new release of pip is available: \u001b[0m\u001b[31;49m24.2\u001b[0m\u001b[39;49m -> \u001b[0m\u001b[32;49m25.2\u001b[0m\n",
      "\u001b[1m[\u001b[0m\u001b[34;49mnotice\u001b[0m\u001b[1;39;49m]\u001b[0m\u001b[39;49m To update, run: \u001b[0m\u001b[32;49mpip install --upgrade pip\u001b[0m\n",
      "Note: you may need to restart the kernel to use updated packages.\n"
     ]
    }
   ],
   "source": [
    "%pip install dotenv llama_stack_client fire"
   ]
  },
  {
   "cell_type": "code",
   "execution_count": 2,
   "metadata": {},
   "outputs": [],
   "source": [
    "import os\n",
    "from dotenv import load_dotenv\n",
    "import rich\n",
    "\n",
    "from llama_stack_client import LlamaStackClient\n",
    "from llama_stack_client.types import UserMessage\n",
    "from llama_stack_client import Agent\n",
    "from llama_stack_client import AgentEventLogger"
   ]
  },
  {
   "cell_type": "code",
   "execution_count": 3,
   "metadata": {},
   "outputs": [],
   "source": [
    "load_dotenv()\n",
    "base_url = os.getenv(\"REMOTE_BASE_URL\", \"http://localhost:8321\")\n",
    "\n",
    "client = LlamaStackClient(\n",
    "    base_url=base_url\n",
    ")"
   ]
  },
  {
   "cell_type": "code",
   "execution_count": 4,
   "metadata": {},
   "outputs": [],
   "source": [
    "strategy = {\"type\": \"greedy\"}\n",
    "max_tokens = int(os.getenv(\"MAX_TOKENS\", 512))\n",
    "sampling_params = {\n",
    "    \"strategy\": strategy,\n",
    "    \"max_tokens\": max_tokens,\n",
    "}\n",
    "\n",
    "stream=False"
   ]
  },
  {
   "cell_type": "code",
   "execution_count": 5,
   "metadata": {},
   "outputs": [],
   "source": [
    "model_id = \"granite\""
   ]
  },
  {
   "cell_type": "code",
   "execution_count": 6,
   "metadata": {},
   "outputs": [
    {
     "name": "stderr",
     "output_type": "stream",
     "text": [
      "INFO:httpx:HTTP Request: POST http://llamastack:8321/v1/safety/run-shield \"HTTP/1.1 200 OK\"\n",
      "INFO:httpx:HTTP Request: POST http://llamastack:8321/v1/agents \"HTTP/1.1 200 OK\"\n",
      "INFO:httpx:HTTP Request: POST http://llamastack:8321/v1/agents/bb6872dd-50dd-4fdc-8801-69ebcf5f06c2/session \"HTTP/1.1 200 OK\"\n",
      "INFO:httpx:HTTP Request: POST http://llamastack:8321/v1/agents/bb6872dd-50dd-4fdc-8801-69ebcf5f06c2/session/b5c820f8-1800-4247-a025-644944c13098/turn \"HTTP/1.1 200 OK\"\n"
     ]
    },
    {
     "name": "stdout",
     "output_type": "stream",
     "text": [
      "\u001b[35mshield_call> No Violation\u001b[0m\n",
      "\u001b[33minference> \u001b[0m\u001b[33mI\u001b[0m\u001b[33m'm\u001b[0m\u001b[33m sorry\u001b[0m\u001b[33m for\u001b[0m\u001b[33m the\u001b[0m\u001b[33m incon\u001b[0m\u001b[33mvenience\u001b[0m\u001b[33m,\u001b[0m\u001b[33m but\u001b[0m\u001b[33m as\u001b[0m\u001b[33m an\u001b[0m\u001b[33m AI\u001b[0m\u001b[33m,\u001b[0m\u001b[33m I\u001b[0m\u001b[33m don\u001b[0m\u001b[33m't\u001b[0m\u001b[33m have\u001b[0m\u001b[33m real\u001b[0m\u001b[33m-\u001b[0m\u001b[33mtime\u001b[0m\u001b[33m capabilities\u001b[0m\u001b[33m to\u001b[0m\u001b[33m provide\u001b[0m\u001b[33m current\u001b[0m\u001b[33m weather\u001b[0m\u001b[33m updates\u001b[0m\u001b[33m.\u001b[0m\u001b[33m I\u001b[0m\u001b[33m recommend\u001b[0m\u001b[33m checking\u001b[0m\u001b[33m a\u001b[0m\u001b[33m reliable\u001b[0m\u001b[33m weather\u001b[0m\u001b[33m forecast\u001b[0m\u001b[33ming\u001b[0m\u001b[33m website\u001b[0m\u001b[33m or\u001b[0m\u001b[33m app\u001b[0m\u001b[33m for\u001b[0m\u001b[33m the\u001b[0m\u001b[33m most\u001b[0m\u001b[33m accurate\u001b[0m\u001b[33m information\u001b[0m\u001b[33m.\u001b[0m\u001b[97m\u001b[0m\n",
      "\u001b[35mshield_call> No Violation\u001b[0m\n",
      "\u001b[30m\u001b[0m"
     ]
    }
   ],
   "source": [
    "quary = \"What is the weather in New York City today?\"\n",
    "message = UserMessage(\n",
    "    content=quary,\n",
    "    role=\"user\"\n",
    ")\n",
    "\n",
    "shield_id = \"pii\"\n",
    "response = client.safety.run_shield(\n",
    "    shield_id=shield_id, messages=[message], params={}\n",
    ")\n",
    "\n",
    "if response.violation.metadata.get(\"status\") != \"pass\":\n",
    "    model_id = \"qwen\"\n",
    "    rich.print(response)\n",
    "\n",
    "agent = Agent(\n",
    "    client,\n",
    "    model=model_id,\n",
    "    instructions=\"You are a helpful assistant that can help to answer questions.\",\n",
    "    sampling_params=sampling_params,\n",
    "    input_shields=[\"hap\"],\n",
    "    output_shields=[\"hap\"],\n",
    ")\n",
    "\n",
    "session_id = agent.create_session(session_name=\"My conversation\")\n",
    "\n",
    "turn_response = agent.create_turn(\n",
    "    session_id=session_id,\n",
    "    messages=[message],\n",
    ")\n",
    "for log in AgentEventLogger().log(turn_response):\n",
    "    log.print()"
   ]
  },
  {
   "cell_type": "code",
   "execution_count": 7,
   "metadata": {},
   "outputs": [
    {
     "name": "stderr",
     "output_type": "stream",
     "text": [
      "INFO:httpx:HTTP Request: POST http://llamastack:8321/v1/safety/run-shield \"HTTP/1.1 200 OK\"\n"
     ]
    },
    {
     "data": {
      "text/html": [
       "<pre style=\"white-space:pre;overflow-x:auto;line-height:normal;font-family:Menlo,'DejaVu Sans Mono',consolas,'Courier New',monospace\"><span style=\"color: #800080; text-decoration-color: #800080; font-weight: bold\">RunShieldResponse</span><span style=\"font-weight: bold\">(</span>\n",
       "    <span style=\"color: #808000; text-decoration-color: #808000\">violation</span>=<span style=\"color: #800080; text-decoration-color: #800080; font-weight: bold\">SafetyViolation</span><span style=\"font-weight: bold\">(</span>\n",
       "        <span style=\"color: #808000; text-decoration-color: #808000\">metadata</span>=<span style=\"font-weight: bold\">{</span>\n",
       "            <span style=\"color: #008000; text-decoration-color: #008000\">'status'</span>: <span style=\"color: #008000; text-decoration-color: #008000\">'violation'</span>,\n",
       "            <span style=\"color: #008000; text-decoration-color: #008000\">'shield_id'</span>: <span style=\"color: #008000; text-decoration-color: #008000\">'pii'</span>,\n",
       "            <span style=\"color: #008000; text-decoration-color: #008000\">'confidence_threshold'</span>: <span style=\"color: #008080; text-decoration-color: #008080; font-weight: bold\">0.5</span>,\n",
       "            <span style=\"color: #008000; text-decoration-color: #008000\">'summary'</span>: <span style=\"font-weight: bold\">{</span>\n",
       "                <span style=\"color: #008000; text-decoration-color: #008000\">'total_messages'</span>: <span style=\"color: #008080; text-decoration-color: #008080; font-weight: bold\">1</span>,\n",
       "                <span style=\"color: #008000; text-decoration-color: #008000\">'processed_messages'</span>: <span style=\"color: #008080; text-decoration-color: #008080; font-weight: bold\">1</span>,\n",
       "                <span style=\"color: #008000; text-decoration-color: #008000\">'skipped_messages'</span>: <span style=\"color: #008080; text-decoration-color: #008080; font-weight: bold\">0</span>,\n",
       "                <span style=\"color: #008000; text-decoration-color: #008000\">'messages_with_violations'</span>: <span style=\"color: #008080; text-decoration-color: #008080; font-weight: bold\">1</span>,\n",
       "                <span style=\"color: #008000; text-decoration-color: #008000\">'messages_passed'</span>: <span style=\"color: #008080; text-decoration-color: #008080; font-weight: bold\">0</span>,\n",
       "                <span style=\"color: #008000; text-decoration-color: #008000\">'message_fail_rate'</span>: <span style=\"color: #008080; text-decoration-color: #008080; font-weight: bold\">1.0</span>,\n",
       "                <span style=\"color: #008000; text-decoration-color: #008000\">'message_pass_rate'</span>: <span style=\"color: #008080; text-decoration-color: #008080; font-weight: bold\">0.0</span>,\n",
       "                <span style=\"color: #008000; text-decoration-color: #008000\">'total_detections'</span>: <span style=\"color: #008080; text-decoration-color: #008080; font-weight: bold\">1</span>,\n",
       "                <span style=\"color: #008000; text-decoration-color: #008000\">'detector_breakdown'</span>: <span style=\"font-weight: bold\">{</span>\n",
       "                    <span style=\"color: #008000; text-decoration-color: #008000\">'active_detectors'</span>: <span style=\"color: #008080; text-decoration-color: #008080; font-weight: bold\">1</span>,\n",
       "                    <span style=\"color: #008000; text-decoration-color: #008000\">'total_checks_performed'</span>: <span style=\"color: #008080; text-decoration-color: #008080; font-weight: bold\">1</span>,\n",
       "                    <span style=\"color: #008000; text-decoration-color: #008000\">'total_violations_found'</span>: <span style=\"color: #008080; text-decoration-color: #008080; font-weight: bold\">1</span>,\n",
       "                    <span style=\"color: #008000; text-decoration-color: #008000\">'violations_per_message'</span>: <span style=\"color: #008080; text-decoration-color: #008080; font-weight: bold\">1.0</span>\n",
       "                <span style=\"font-weight: bold\">}</span>\n",
       "            <span style=\"font-weight: bold\">}</span>,\n",
       "            <span style=\"color: #008000; text-decoration-color: #008000\">'results'</span>: <span style=\"font-weight: bold\">[</span>\n",
       "                <span style=\"font-weight: bold\">{</span>\n",
       "                    <span style=\"color: #008000; text-decoration-color: #008000\">'message_index'</span>: <span style=\"color: #008080; text-decoration-color: #008080; font-weight: bold\">0</span>,\n",
       "                    <span style=\"color: #008000; text-decoration-color: #008000\">'text'</span>: <span style=\"color: #008000; text-decoration-color: #008000\">'What is the weather in New York City today? a@b.com'</span>,\n",
       "                    <span style=\"color: #008000; text-decoration-color: #008000\">'status'</span>: <span style=\"color: #008000; text-decoration-color: #008000\">'violation'</span>,\n",
       "                    <span style=\"color: #008000; text-decoration-color: #008000\">'score'</span>: <span style=\"color: #008080; text-decoration-color: #008080; font-weight: bold\">1.0</span>,\n",
       "                    <span style=\"color: #008000; text-decoration-color: #008000\">'detection_type'</span>: <span style=\"color: #008000; text-decoration-color: #008000\">'pii'</span>,\n",
       "                    <span style=\"color: #008000; text-decoration-color: #008000\">'individual_detector_results'</span>: <span style=\"font-weight: bold\">[</span>\n",
       "                        <span style=\"font-weight: bold\">{</span><span style=\"color: #008000; text-decoration-color: #008000\">'detector_id'</span>: <span style=\"color: #008000; text-decoration-color: #008000\">'regex'</span>, <span style=\"color: #008000; text-decoration-color: #008000\">'status'</span>: <span style=\"color: #008000; text-decoration-color: #008000\">'violation'</span>, <span style=\"color: #008000; text-decoration-color: #008000\">'score'</span>: <span style=\"color: #008080; text-decoration-color: #008080; font-weight: bold\">1.0</span>, <span style=\"color: #008000; text-decoration-color: #008000\">'detection_type'</span>: <span style=\"color: #008000; text-decoration-color: #008000\">'pii'</span><span style=\"font-weight: bold\">}</span>\n",
       "                    <span style=\"font-weight: bold\">]</span>\n",
       "                <span style=\"font-weight: bold\">}</span>\n",
       "            <span style=\"font-weight: bold\">]</span>\n",
       "        <span style=\"font-weight: bold\">}</span>,\n",
       "        <span style=\"color: #808000; text-decoration-color: #808000\">violation_level</span>=<span style=\"color: #008000; text-decoration-color: #008000\">'error'</span>,\n",
       "        <span style=\"color: #808000; text-decoration-color: #808000\">user_message</span>=<span style=\"color: #008000; text-decoration-color: #008000\">'Content violation detected by shield pii (confidence: 1.00, 1/1 processed messages violated)'</span>\n",
       "    <span style=\"font-weight: bold\">)</span>\n",
       "<span style=\"font-weight: bold\">)</span>\n",
       "</pre>\n"
      ],
      "text/plain": [
       "\u001b[1;35mRunShieldResponse\u001b[0m\u001b[1m(\u001b[0m\n",
       "    \u001b[33mviolation\u001b[0m=\u001b[1;35mSafetyViolation\u001b[0m\u001b[1m(\u001b[0m\n",
       "        \u001b[33mmetadata\u001b[0m=\u001b[1m{\u001b[0m\n",
       "            \u001b[32m'status'\u001b[0m: \u001b[32m'violation'\u001b[0m,\n",
       "            \u001b[32m'shield_id'\u001b[0m: \u001b[32m'pii'\u001b[0m,\n",
       "            \u001b[32m'confidence_threshold'\u001b[0m: \u001b[1;36m0.5\u001b[0m,\n",
       "            \u001b[32m'summary'\u001b[0m: \u001b[1m{\u001b[0m\n",
       "                \u001b[32m'total_messages'\u001b[0m: \u001b[1;36m1\u001b[0m,\n",
       "                \u001b[32m'processed_messages'\u001b[0m: \u001b[1;36m1\u001b[0m,\n",
       "                \u001b[32m'skipped_messages'\u001b[0m: \u001b[1;36m0\u001b[0m,\n",
       "                \u001b[32m'messages_with_violations'\u001b[0m: \u001b[1;36m1\u001b[0m,\n",
       "                \u001b[32m'messages_passed'\u001b[0m: \u001b[1;36m0\u001b[0m,\n",
       "                \u001b[32m'message_fail_rate'\u001b[0m: \u001b[1;36m1.0\u001b[0m,\n",
       "                \u001b[32m'message_pass_rate'\u001b[0m: \u001b[1;36m0.0\u001b[0m,\n",
       "                \u001b[32m'total_detections'\u001b[0m: \u001b[1;36m1\u001b[0m,\n",
       "                \u001b[32m'detector_breakdown'\u001b[0m: \u001b[1m{\u001b[0m\n",
       "                    \u001b[32m'active_detectors'\u001b[0m: \u001b[1;36m1\u001b[0m,\n",
       "                    \u001b[32m'total_checks_performed'\u001b[0m: \u001b[1;36m1\u001b[0m,\n",
       "                    \u001b[32m'total_violations_found'\u001b[0m: \u001b[1;36m1\u001b[0m,\n",
       "                    \u001b[32m'violations_per_message'\u001b[0m: \u001b[1;36m1.0\u001b[0m\n",
       "                \u001b[1m}\u001b[0m\n",
       "            \u001b[1m}\u001b[0m,\n",
       "            \u001b[32m'results'\u001b[0m: \u001b[1m[\u001b[0m\n",
       "                \u001b[1m{\u001b[0m\n",
       "                    \u001b[32m'message_index'\u001b[0m: \u001b[1;36m0\u001b[0m,\n",
       "                    \u001b[32m'text'\u001b[0m: \u001b[32m'What is the weather in New York City today? a@b.com'\u001b[0m,\n",
       "                    \u001b[32m'status'\u001b[0m: \u001b[32m'violation'\u001b[0m,\n",
       "                    \u001b[32m'score'\u001b[0m: \u001b[1;36m1.0\u001b[0m,\n",
       "                    \u001b[32m'detection_type'\u001b[0m: \u001b[32m'pii'\u001b[0m,\n",
       "                    \u001b[32m'individual_detector_results'\u001b[0m: \u001b[1m[\u001b[0m\n",
       "                        \u001b[1m{\u001b[0m\u001b[32m'detector_id'\u001b[0m: \u001b[32m'regex'\u001b[0m, \u001b[32m'status'\u001b[0m: \u001b[32m'violation'\u001b[0m, \u001b[32m'score'\u001b[0m: \u001b[1;36m1.0\u001b[0m, \u001b[32m'detection_type'\u001b[0m: \u001b[32m'pii'\u001b[0m\u001b[1m}\u001b[0m\n",
       "                    \u001b[1m]\u001b[0m\n",
       "                \u001b[1m}\u001b[0m\n",
       "            \u001b[1m]\u001b[0m\n",
       "        \u001b[1m}\u001b[0m,\n",
       "        \u001b[33mviolation_level\u001b[0m=\u001b[32m'error'\u001b[0m,\n",
       "        \u001b[33muser_message\u001b[0m=\u001b[32m'Content violation detected by shield pii \u001b[0m\u001b[32m(\u001b[0m\u001b[32mconfidence: 1.00, 1/1 processed messages violated\u001b[0m\u001b[32m)\u001b[0m\u001b[32m'\u001b[0m\n",
       "    \u001b[1m)\u001b[0m\n",
       "\u001b[1m)\u001b[0m\n"
      ]
     },
     "metadata": {},
     "output_type": "display_data"
    },
    {
     "name": "stderr",
     "output_type": "stream",
     "text": [
      "INFO:httpx:HTTP Request: POST http://llamastack:8321/v1/agents \"HTTP/1.1 200 OK\"\n",
      "INFO:httpx:HTTP Request: POST http://llamastack:8321/v1/agents/8fba09a3-1b4e-4582-ab95-c61e77c32095/session \"HTTP/1.1 200 OK\"\n",
      "INFO:httpx:HTTP Request: POST http://llamastack:8321/v1/agents/8fba09a3-1b4e-4582-ab95-c61e77c32095/session/dd74e485-a19b-4ff8-a417-fcfdbad5b78f/turn \"HTTP/1.1 200 OK\"\n"
     ]
    },
    {
     "name": "stdout",
     "output_type": "stream",
     "text": [
      "\u001b[35mshield_call> No Violation\u001b[0m\n",
      "\u001b[33minference> \u001b[0m\u001b[33m<think>\u001b[0m\u001b[33m\n",
      "\u001b[0m\u001b[33mOkay\u001b[0m\u001b[33m,\u001b[0m\u001b[33m the\u001b[0m\u001b[33m user\u001b[0m\u001b[33m is\u001b[0m\u001b[33m asking\u001b[0m\u001b[33m about\u001b[0m\u001b[33m the\u001b[0m\u001b[33m weather\u001b[0m\u001b[33m in\u001b[0m\u001b[33m New\u001b[0m\u001b[33m York\u001b[0m\u001b[33m City\u001b[0m\u001b[33m today\u001b[0m\u001b[33m,\u001b[0m\u001b[33m and\u001b[0m\u001b[33m they\u001b[0m\u001b[33m provided\u001b[0m\u001b[33m an\u001b[0m\u001b[33m email\u001b[0m\u001b[33m address\u001b[0m\u001b[33m.\u001b[0m\u001b[33m First\u001b[0m\u001b[33m,\u001b[0m\u001b[33m I\u001b[0m\u001b[33m need\u001b[0m\u001b[33m to\u001b[0m\u001b[33m check\u001b[0m\u001b[33m if\u001b[0m\u001b[33m they\u001b[0m\u001b[33m want\u001b[0m\u001b[33m the\u001b[0m\u001b[33m current\u001b[0m\u001b[33m weather\u001b[0m\u001b[33m or\u001b[0m\u001b[33m if\u001b[0m\u001b[33m there\u001b[0m\u001b[33m's\u001b[0m\u001b[33m something\u001b[0m\u001b[33m else\u001b[0m\u001b[33m.\u001b[0m\u001b[33m The\u001b[0m\u001b[33m email\u001b[0m\u001b[33m might\u001b[0m\u001b[33m be\u001b[0m\u001b[33m a\u001b[0m\u001b[33m mistake\u001b[0m\u001b[33m or\u001b[0m\u001b[33m a\u001b[0m\u001b[33m test\u001b[0m\u001b[33m.\u001b[0m\u001b[33m I\u001b[0m\u001b[33m should\u001b[0m\u001b[33m confirm\u001b[0m\u001b[33m the\u001b[0m\u001b[33m request\u001b[0m\u001b[33m and\u001b[0m\u001b[33m then\u001b[0m\u001b[33m provide\u001b[0m\u001b[33m the\u001b[0m\u001b[33m weather\u001b[0m\u001b[33m info\u001b[0m\u001b[33m.\u001b[0m\u001b[33m Let\u001b[0m\u001b[33m me\u001b[0m\u001b[33m make\u001b[0m\u001b[33m sure\u001b[0m\u001b[33m to\u001b[0m\u001b[33m mention\u001b[0m\u001b[33m that\u001b[0m\u001b[33m I\u001b[0m\u001b[33m can\u001b[0m\u001b[33m't\u001b[0m\u001b[33m access\u001b[0m\u001b[33m real\u001b[0m\u001b[33m-time\u001b[0m\u001b[33m data\u001b[0m\u001b[33m and\u001b[0m\u001b[33m suggest\u001b[0m\u001b[33m checking\u001b[0m\u001b[33m a\u001b[0m\u001b[33m weather\u001b[0m\u001b[33m website\u001b[0m\u001b[33m or\u001b[0m\u001b[33m app\u001b[0m\u001b[33m.\u001b[0m\u001b[33m Also\u001b[0m\u001b[33m,\u001b[0m\u001b[33m I\u001b[0m\u001b[33m should\u001b[0m\u001b[33m note\u001b[0m\u001b[33m the\u001b[0m\u001b[33m email\u001b[0m\u001b[33m address\u001b[0m\u001b[33m in\u001b[0m\u001b[33m case\u001b[0m\u001b[33m they\u001b[0m\u001b[33m need\u001b[0m\u001b[33m further\u001b[0m\u001b[33m assistance\u001b[0m\u001b[33m.\u001b[0m\u001b[33m Keep\u001b[0m\u001b[33m the\u001b[0m\u001b[33m response\u001b[0m\u001b[33m friendly\u001b[0m\u001b[33m and\u001b[0m\u001b[33m helpful\u001b[0m\u001b[33m.\n",
      "\u001b[0m\u001b[33m</think>\u001b[0m\u001b[33m\n",
      "\n",
      "\u001b[0m\u001b[33mI\u001b[0m\u001b[33m currently\u001b[0m\u001b[33m don\u001b[0m\u001b[33m't\u001b[0m\u001b[33m have\u001b[0m\u001b[33m access\u001b[0m\u001b[33m to\u001b[0m\u001b[33m real\u001b[0m\u001b[33m-time\u001b[0m\u001b[33m weather\u001b[0m\u001b[33m data\u001b[0m\u001b[33m.\u001b[0m\u001b[33m For\u001b[0m\u001b[33m the\u001b[0m\u001b[33m most\u001b[0m\u001b[33m accurate\u001b[0m\u001b[33m and\u001b[0m\u001b[33m up\u001b[0m\u001b[33m-to\u001b[0m\u001b[33m-date\u001b[0m\u001b[33m weather\u001b[0m\u001b[33m information\u001b[0m\u001b[33m in\u001b[0m\u001b[33m New\u001b[0m\u001b[33m York\u001b[0m\u001b[33m City\u001b[0m\u001b[33m,\u001b[0m\u001b[33m I\u001b[0m\u001b[33m recommend\u001b[0m\u001b[33m checking\u001b[0m\u001b[33m a\u001b[0m\u001b[33m reliable\u001b[0m\u001b[33m weather\u001b[0m\u001b[33m service\u001b[0m\u001b[33m like\u001b[0m\u001b[33m the\u001b[0m\u001b[33m National\u001b[0m\u001b[33m Weather\u001b[0m\u001b[33m Service\u001b[0m\u001b[33m (\u001b[0m\u001b[33mweather\u001b[0m\u001b[33m.gov\u001b[0m\u001b[33m),\u001b[0m\u001b[33m Weather\u001b[0m\u001b[33m.com\u001b[0m\u001b[33m,\u001b[0m\u001b[33m or\u001b[0m\u001b[33m a\u001b[0m\u001b[33m weather\u001b[0m\u001b[33m app\u001b[0m\u001b[33m on\u001b[0m\u001b[33m your\u001b[0m\u001b[33m phone\u001b[0m\u001b[33m.\u001b[0m\u001b[33m Let\u001b[0m\u001b[33m me\u001b[0m\u001b[33m know\u001b[0m\u001b[33m if\u001b[0m\u001b[33m you\u001b[0m\u001b[33m'd\u001b[0m\u001b[33m like\u001b[0m\u001b[33m help\u001b[0m\u001b[33m with\u001b[0m\u001b[33m anything\u001b[0m\u001b[33m else\u001b[0m\u001b[33m!\u001b[0m\u001b[33m  \n",
      "\n",
      "\u001b[0m\u001b[33mP\u001b[0m\u001b[33m.S\u001b[0m\u001b[33m.\u001b[0m\u001b[33m The\u001b[0m\u001b[33m email\u001b[0m\u001b[33m address\u001b[0m\u001b[33m \"\u001b[0m\u001b[33ma\u001b[0m\u001b[33m@\u001b[0m\u001b[33mb\u001b[0m\u001b[33m.com\u001b[0m\u001b[33m\"\u001b[0m\u001b[33m seems\u001b[0m\u001b[33m unrelated\u001b[0m\u001b[33m to\u001b[0m\u001b[33m your\u001b[0m\u001b[33m question\u001b[0m\u001b[33m—\u001b[0m\u001b[33mwas\u001b[0m\u001b[33m that\u001b[0m\u001b[33m a\u001b[0m\u001b[33m typo\u001b[0m\u001b[33m or\u001b[0m\u001b[33m part\u001b[0m\u001b[33m of\u001b[0m\u001b[33m your\u001b[0m\u001b[33m request\u001b[0m\u001b[33m?\u001b[0m\u001b[33m 😊\u001b[0m\u001b[97m\u001b[0m\n",
      "\u001b[35mshield_call> No Violation\u001b[0m\n",
      "\u001b[30m\u001b[0m"
     ]
    }
   ],
   "source": [
    "quary = \"What is the weather in New York City today? a@b.com\"\n",
    "message = UserMessage(\n",
    "    content=quary,\n",
    "    role=\"user\"\n",
    ")\n",
    "\n",
    "shield_id = \"pii\"\n",
    "response = client.safety.run_shield(\n",
    "    shield_id=shield_id, messages=[message], params={}\n",
    ")\n",
    "\n",
    "if response.violation.metadata.get(\"status\") != \"pass\":\n",
    "    model_id = \"qwen\"\n",
    "    rich.print(response)\n",
    "\n",
    "agent = Agent(\n",
    "    client,\n",
    "    model=model_id,\n",
    "    instructions=\"You are a helpful assistant that can help to answer questions.\",\n",
    "    sampling_params=sampling_params,\n",
    "    input_shields=[\"hap\"],\n",
    "    output_shields=[\"hap\"],\n",
    ")\n",
    "\n",
    "session_id = agent.create_session(session_name=\"My conversation\")\n",
    "\n",
    "turn_response = agent.create_turn(\n",
    "    session_id=session_id,\n",
    "    messages=[message],\n",
    ")\n",
    "for log in AgentEventLogger().log(turn_response):\n",
    "    log.print()"
   ]
  },
  {
   "cell_type": "code",
   "execution_count": 8,
   "metadata": {},
   "outputs": [
    {
     "name": "stderr",
     "output_type": "stream",
     "text": [
      "INFO:httpx:HTTP Request: POST http://llamastack:8321/v1/safety/run-shield \"HTTP/1.1 200 OK\"\n",
      "INFO:httpx:HTTP Request: POST http://llamastack:8321/v1/agents \"HTTP/1.1 200 OK\"\n",
      "INFO:httpx:HTTP Request: POST http://llamastack:8321/v1/agents/64e171e0-a6a2-45d9-bb16-6dd533b3995a/session \"HTTP/1.1 200 OK\"\n",
      "INFO:httpx:HTTP Request: POST http://llamastack:8321/v1/agents/64e171e0-a6a2-45d9-bb16-6dd533b3995a/session/ccf8ecac-2709-4c7e-915b-fdd27a2c1b91/turn \"HTTP/1.1 200 OK\"\n"
     ]
    },
    {
     "name": "stdout",
     "output_type": "stream",
     "text": [
      "\u001b[31mshield_call> {'status': 'violation', 'shield_id': 'hap', 'confidence_threshold': 0.5, 'summary': {'total_messages': 2, 'processed_messages': 2, 'skipped_messages': 0, 'messages_with_violations': 1, 'messages_passed': 1, 'message_fail_rate': 0.5, 'message_pass_rate': 0.5, 'total_detections': 1, 'detector_breakdown': {'active_detectors': 1, 'total_checks_performed': 2, 'total_violations_found': 1, 'violations_per_message': 0.5}}, 'results': [{'message_index': 0, 'text': 'You are a helpful assistant that can help to answer questions.', 'status': 'pass', 'score': None, 'detection_type': None, 'individual_detector_results': [{'detector_id': 'hap', 'status': 'pass', 'score': None, 'detection_type': None}]}, {'message_index': 1, 'text': 'What is the weather in New York City today? You dotard, I really hate this!', 'status': 'violation', 'score': 0.936720371246338, 'detection_type': 'sequence_classification', 'individual_detector_results': [{'detector_id': 'hap', 'status': 'violation', 'score': 0.936720371246338, 'detection_type': 'sequence_classification'}]}]} Content violation detected by shield hap (confidence: 0.94, 1/2 processed messages violated)\u001b[0m\n",
      "\u001b[30m\u001b[0m"
     ]
    }
   ],
   "source": [
    "quary = \"What is the weather in New York City today? You dotard, I really hate this!\"\n",
    "message = UserMessage(\n",
    "    content=quary,\n",
    "    role=\"user\"\n",
    ")\n",
    "\n",
    "shield_id = \"pii\"\n",
    "response = client.safety.run_shield(\n",
    "    shield_id=shield_id, messages=[message], params={}\n",
    ")\n",
    "\n",
    "if response.violation.metadata.get(\"status\") != \"pass\":\n",
    "    model_id = \"qwen\"\n",
    "    rich.print(response)\n",
    "\n",
    "agent = Agent(\n",
    "    client,\n",
    "    model=model_id,\n",
    "    instructions=\"You are a helpful assistant that can help to answer questions.\",\n",
    "    sampling_params=sampling_params,\n",
    "    input_shields=[\"hap\"],\n",
    "    output_shields=[\"hap\"],\n",
    ")\n",
    "\n",
    "session_id = agent.create_session(session_name=\"My conversation\")\n",
    "\n",
    "turn_response = agent.create_turn(\n",
    "    session_id=session_id,\n",
    "    messages=[message],\n",
    ")\n",
    "for log in AgentEventLogger().log(turn_response):\n",
    "    log.print()"
   ]
  },
  {
   "cell_type": "code",
   "execution_count": 9,
   "metadata": {},
   "outputs": [
    {
     "name": "stderr",
     "output_type": "stream",
     "text": [
      "INFO:httpx:HTTP Request: POST http://llamastack:8321/v1/safety/run-shield \"HTTP/1.1 200 OK\"\n"
     ]
    },
    {
     "data": {
      "text/html": [
       "<pre style=\"white-space:pre;overflow-x:auto;line-height:normal;font-family:Menlo,'DejaVu Sans Mono',consolas,'Courier New',monospace\"><span style=\"color: #800080; text-decoration-color: #800080; font-weight: bold\">RunShieldResponse</span><span style=\"font-weight: bold\">(</span>\n",
       "    <span style=\"color: #808000; text-decoration-color: #808000\">violation</span>=<span style=\"color: #800080; text-decoration-color: #800080; font-weight: bold\">SafetyViolation</span><span style=\"font-weight: bold\">(</span>\n",
       "        <span style=\"color: #808000; text-decoration-color: #808000\">metadata</span>=<span style=\"font-weight: bold\">{</span>\n",
       "            <span style=\"color: #008000; text-decoration-color: #008000\">'status'</span>: <span style=\"color: #008000; text-decoration-color: #008000\">'violation'</span>,\n",
       "            <span style=\"color: #008000; text-decoration-color: #008000\">'shield_id'</span>: <span style=\"color: #008000; text-decoration-color: #008000\">'pii'</span>,\n",
       "            <span style=\"color: #008000; text-decoration-color: #008000\">'confidence_threshold'</span>: <span style=\"color: #008080; text-decoration-color: #008080; font-weight: bold\">0.5</span>,\n",
       "            <span style=\"color: #008000; text-decoration-color: #008000\">'summary'</span>: <span style=\"font-weight: bold\">{</span>\n",
       "                <span style=\"color: #008000; text-decoration-color: #008000\">'total_messages'</span>: <span style=\"color: #008080; text-decoration-color: #008080; font-weight: bold\">1</span>,\n",
       "                <span style=\"color: #008000; text-decoration-color: #008000\">'processed_messages'</span>: <span style=\"color: #008080; text-decoration-color: #008080; font-weight: bold\">1</span>,\n",
       "                <span style=\"color: #008000; text-decoration-color: #008000\">'skipped_messages'</span>: <span style=\"color: #008080; text-decoration-color: #008080; font-weight: bold\">0</span>,\n",
       "                <span style=\"color: #008000; text-decoration-color: #008000\">'messages_with_violations'</span>: <span style=\"color: #008080; text-decoration-color: #008080; font-weight: bold\">1</span>,\n",
       "                <span style=\"color: #008000; text-decoration-color: #008000\">'messages_passed'</span>: <span style=\"color: #008080; text-decoration-color: #008080; font-weight: bold\">0</span>,\n",
       "                <span style=\"color: #008000; text-decoration-color: #008000\">'message_fail_rate'</span>: <span style=\"color: #008080; text-decoration-color: #008080; font-weight: bold\">1.0</span>,\n",
       "                <span style=\"color: #008000; text-decoration-color: #008000\">'message_pass_rate'</span>: <span style=\"color: #008080; text-decoration-color: #008080; font-weight: bold\">0.0</span>,\n",
       "                <span style=\"color: #008000; text-decoration-color: #008000\">'total_detections'</span>: <span style=\"color: #008080; text-decoration-color: #008080; font-weight: bold\">1</span>,\n",
       "                <span style=\"color: #008000; text-decoration-color: #008000\">'detector_breakdown'</span>: <span style=\"font-weight: bold\">{</span>\n",
       "                    <span style=\"color: #008000; text-decoration-color: #008000\">'active_detectors'</span>: <span style=\"color: #008080; text-decoration-color: #008080; font-weight: bold\">1</span>,\n",
       "                    <span style=\"color: #008000; text-decoration-color: #008000\">'total_checks_performed'</span>: <span style=\"color: #008080; text-decoration-color: #008080; font-weight: bold\">1</span>,\n",
       "                    <span style=\"color: #008000; text-decoration-color: #008000\">'total_violations_found'</span>: <span style=\"color: #008080; text-decoration-color: #008080; font-weight: bold\">1</span>,\n",
       "                    <span style=\"color: #008000; text-decoration-color: #008000\">'violations_per_message'</span>: <span style=\"color: #008080; text-decoration-color: #008080; font-weight: bold\">1.0</span>\n",
       "                <span style=\"font-weight: bold\">}</span>\n",
       "            <span style=\"font-weight: bold\">}</span>,\n",
       "            <span style=\"color: #008000; text-decoration-color: #008000\">'results'</span>: <span style=\"font-weight: bold\">[</span>\n",
       "                <span style=\"font-weight: bold\">{</span>\n",
       "                    <span style=\"color: #008000; text-decoration-color: #008000\">'message_index'</span>: <span style=\"color: #008080; text-decoration-color: #008080; font-weight: bold\">0</span>,\n",
       "                    <span style=\"color: #008000; text-decoration-color: #008000\">'text'</span>: <span style=\"color: #008000; text-decoration-color: #008000\">'What is the weather in New York City today? a@b.com, You dotard, I really hate this!'</span>,\n",
       "                    <span style=\"color: #008000; text-decoration-color: #008000\">'status'</span>: <span style=\"color: #008000; text-decoration-color: #008000\">'violation'</span>,\n",
       "                    <span style=\"color: #008000; text-decoration-color: #008000\">'score'</span>: <span style=\"color: #008080; text-decoration-color: #008080; font-weight: bold\">1.0</span>,\n",
       "                    <span style=\"color: #008000; text-decoration-color: #008000\">'detection_type'</span>: <span style=\"color: #008000; text-decoration-color: #008000\">'pii'</span>,\n",
       "                    <span style=\"color: #008000; text-decoration-color: #008000\">'individual_detector_results'</span>: <span style=\"font-weight: bold\">[</span>\n",
       "                        <span style=\"font-weight: bold\">{</span><span style=\"color: #008000; text-decoration-color: #008000\">'detector_id'</span>: <span style=\"color: #008000; text-decoration-color: #008000\">'regex'</span>, <span style=\"color: #008000; text-decoration-color: #008000\">'status'</span>: <span style=\"color: #008000; text-decoration-color: #008000\">'violation'</span>, <span style=\"color: #008000; text-decoration-color: #008000\">'score'</span>: <span style=\"color: #008080; text-decoration-color: #008080; font-weight: bold\">1.0</span>, <span style=\"color: #008000; text-decoration-color: #008000\">'detection_type'</span>: <span style=\"color: #008000; text-decoration-color: #008000\">'pii'</span><span style=\"font-weight: bold\">}</span>\n",
       "                    <span style=\"font-weight: bold\">]</span>\n",
       "                <span style=\"font-weight: bold\">}</span>\n",
       "            <span style=\"font-weight: bold\">]</span>\n",
       "        <span style=\"font-weight: bold\">}</span>,\n",
       "        <span style=\"color: #808000; text-decoration-color: #808000\">violation_level</span>=<span style=\"color: #008000; text-decoration-color: #008000\">'error'</span>,\n",
       "        <span style=\"color: #808000; text-decoration-color: #808000\">user_message</span>=<span style=\"color: #008000; text-decoration-color: #008000\">'Content violation detected by shield pii (confidence: 1.00, 1/1 processed messages violated)'</span>\n",
       "    <span style=\"font-weight: bold\">)</span>\n",
       "<span style=\"font-weight: bold\">)</span>\n",
       "</pre>\n"
      ],
      "text/plain": [
       "\u001b[1;35mRunShieldResponse\u001b[0m\u001b[1m(\u001b[0m\n",
       "    \u001b[33mviolation\u001b[0m=\u001b[1;35mSafetyViolation\u001b[0m\u001b[1m(\u001b[0m\n",
       "        \u001b[33mmetadata\u001b[0m=\u001b[1m{\u001b[0m\n",
       "            \u001b[32m'status'\u001b[0m: \u001b[32m'violation'\u001b[0m,\n",
       "            \u001b[32m'shield_id'\u001b[0m: \u001b[32m'pii'\u001b[0m,\n",
       "            \u001b[32m'confidence_threshold'\u001b[0m: \u001b[1;36m0.5\u001b[0m,\n",
       "            \u001b[32m'summary'\u001b[0m: \u001b[1m{\u001b[0m\n",
       "                \u001b[32m'total_messages'\u001b[0m: \u001b[1;36m1\u001b[0m,\n",
       "                \u001b[32m'processed_messages'\u001b[0m: \u001b[1;36m1\u001b[0m,\n",
       "                \u001b[32m'skipped_messages'\u001b[0m: \u001b[1;36m0\u001b[0m,\n",
       "                \u001b[32m'messages_with_violations'\u001b[0m: \u001b[1;36m1\u001b[0m,\n",
       "                \u001b[32m'messages_passed'\u001b[0m: \u001b[1;36m0\u001b[0m,\n",
       "                \u001b[32m'message_fail_rate'\u001b[0m: \u001b[1;36m1.0\u001b[0m,\n",
       "                \u001b[32m'message_pass_rate'\u001b[0m: \u001b[1;36m0.0\u001b[0m,\n",
       "                \u001b[32m'total_detections'\u001b[0m: \u001b[1;36m1\u001b[0m,\n",
       "                \u001b[32m'detector_breakdown'\u001b[0m: \u001b[1m{\u001b[0m\n",
       "                    \u001b[32m'active_detectors'\u001b[0m: \u001b[1;36m1\u001b[0m,\n",
       "                    \u001b[32m'total_checks_performed'\u001b[0m: \u001b[1;36m1\u001b[0m,\n",
       "                    \u001b[32m'total_violations_found'\u001b[0m: \u001b[1;36m1\u001b[0m,\n",
       "                    \u001b[32m'violations_per_message'\u001b[0m: \u001b[1;36m1.0\u001b[0m\n",
       "                \u001b[1m}\u001b[0m\n",
       "            \u001b[1m}\u001b[0m,\n",
       "            \u001b[32m'results'\u001b[0m: \u001b[1m[\u001b[0m\n",
       "                \u001b[1m{\u001b[0m\n",
       "                    \u001b[32m'message_index'\u001b[0m: \u001b[1;36m0\u001b[0m,\n",
       "                    \u001b[32m'text'\u001b[0m: \u001b[32m'What is the weather in New York City today? a@b.com, You dotard, I really hate this!'\u001b[0m,\n",
       "                    \u001b[32m'status'\u001b[0m: \u001b[32m'violation'\u001b[0m,\n",
       "                    \u001b[32m'score'\u001b[0m: \u001b[1;36m1.0\u001b[0m,\n",
       "                    \u001b[32m'detection_type'\u001b[0m: \u001b[32m'pii'\u001b[0m,\n",
       "                    \u001b[32m'individual_detector_results'\u001b[0m: \u001b[1m[\u001b[0m\n",
       "                        \u001b[1m{\u001b[0m\u001b[32m'detector_id'\u001b[0m: \u001b[32m'regex'\u001b[0m, \u001b[32m'status'\u001b[0m: \u001b[32m'violation'\u001b[0m, \u001b[32m'score'\u001b[0m: \u001b[1;36m1.0\u001b[0m, \u001b[32m'detection_type'\u001b[0m: \u001b[32m'pii'\u001b[0m\u001b[1m}\u001b[0m\n",
       "                    \u001b[1m]\u001b[0m\n",
       "                \u001b[1m}\u001b[0m\n",
       "            \u001b[1m]\u001b[0m\n",
       "        \u001b[1m}\u001b[0m,\n",
       "        \u001b[33mviolation_level\u001b[0m=\u001b[32m'error'\u001b[0m,\n",
       "        \u001b[33muser_message\u001b[0m=\u001b[32m'Content violation detected by shield pii \u001b[0m\u001b[32m(\u001b[0m\u001b[32mconfidence: 1.00, 1/1 processed messages violated\u001b[0m\u001b[32m)\u001b[0m\u001b[32m'\u001b[0m\n",
       "    \u001b[1m)\u001b[0m\n",
       "\u001b[1m)\u001b[0m\n"
      ]
     },
     "metadata": {},
     "output_type": "display_data"
    },
    {
     "name": "stderr",
     "output_type": "stream",
     "text": [
      "INFO:httpx:HTTP Request: POST http://llamastack:8321/v1/agents \"HTTP/1.1 200 OK\"\n",
      "INFO:httpx:HTTP Request: POST http://llamastack:8321/v1/agents/ab66b1eb-d4fb-43e9-a52f-e25632a829c1/session \"HTTP/1.1 200 OK\"\n",
      "INFO:httpx:HTTP Request: POST http://llamastack:8321/v1/agents/ab66b1eb-d4fb-43e9-a52f-e25632a829c1/session/4404be10-949d-4423-bad6-1f912c76229c/turn \"HTTP/1.1 200 OK\"\n"
     ]
    },
    {
     "name": "stdout",
     "output_type": "stream",
     "text": [
      "\u001b[31mshield_call> {'status': 'violation', 'shield_id': 'hap', 'confidence_threshold': 0.5, 'summary': {'total_messages': 2, 'processed_messages': 2, 'skipped_messages': 0, 'messages_with_violations': 1, 'messages_passed': 1, 'message_fail_rate': 0.5, 'message_pass_rate': 0.5, 'total_detections': 1, 'detector_breakdown': {'active_detectors': 1, 'total_checks_performed': 2, 'total_violations_found': 1, 'violations_per_message': 0.5}}, 'results': [{'message_index': 0, 'text': 'You are a helpful assistant that can help to answer questions.', 'status': 'pass', 'score': None, 'detection_type': None, 'individual_detector_results': [{'detector_id': 'hap', 'status': 'pass', 'score': None, 'detection_type': None}]}, {'message_index': 1, 'text': 'What is the weather in New York City today? a@b.com, You dotard, I really hate this!', 'status': 'violation', 'score': 0.95028418302536, 'detection_type': 'sequence_classification', 'individual_detector_results': [{'detector_id': 'hap', 'status': 'violation', 'score': 0.95028418302536, 'detection_type': 'sequence_classification'}]}]} Content violation detected by shield hap (confidence: 0.95, 1/2 processed messages violated)\u001b[0m\n",
      "\u001b[30m\u001b[0m"
     ]
    }
   ],
   "source": [
    "quary = \"What is the weather in New York City today? a@b.com, You dotard, I really hate this!\"\n",
    "message = UserMessage(\n",
    "    content=quary,\n",
    "    role=\"user\"\n",
    ")\n",
    "\n",
    "shield_id = \"pii\"\n",
    "response = client.safety.run_shield(\n",
    "    shield_id=shield_id, messages=[message], params={}\n",
    ")\n",
    "\n",
    "if response.violation.metadata.get(\"status\") != \"pass\":\n",
    "    model_id = \"qwen\"\n",
    "    rich.print(response)\n",
    "\n",
    "agent = Agent(\n",
    "    client,\n",
    "    model=model_id,\n",
    "    instructions=\"You are a helpful assistant that can help to answer questions.\",\n",
    "    sampling_params=sampling_params,\n",
    "    input_shields=[\"hap\"],\n",
    "    output_shields=[\"hap\"],\n",
    ")\n",
    "\n",
    "session_id = agent.create_session(session_name=\"My conversation\")\n",
    "\n",
    "turn_response = agent.create_turn(\n",
    "    session_id=session_id,\n",
    "    messages=[message],\n",
    ")\n",
    "for log in AgentEventLogger().log(turn_response):\n",
    "    log.print()"
   ]
  },
  {
   "cell_type": "code",
   "execution_count": 10,
   "metadata": {},
   "outputs": [
    {
     "name": "stderr",
     "output_type": "stream",
     "text": [
      "INFO:httpx:HTTP Request: POST http://llamastack:8321/v1/safety/run-shield \"HTTP/1.1 200 OK\"\n"
     ]
    },
    {
     "data": {
      "text/html": [
       "<pre style=\"white-space:pre;overflow-x:auto;line-height:normal;font-family:Menlo,'DejaVu Sans Mono',consolas,'Courier New',monospace\"><span style=\"color: #800080; text-decoration-color: #800080; font-weight: bold\">RunShieldResponse</span><span style=\"font-weight: bold\">(</span>\n",
       "    <span style=\"color: #808000; text-decoration-color: #808000\">violation</span>=<span style=\"color: #800080; text-decoration-color: #800080; font-weight: bold\">SafetyViolation</span><span style=\"font-weight: bold\">(</span>\n",
       "        <span style=\"color: #808000; text-decoration-color: #808000\">metadata</span>=<span style=\"font-weight: bold\">{</span>\n",
       "            <span style=\"color: #008000; text-decoration-color: #008000\">'status'</span>: <span style=\"color: #008000; text-decoration-color: #008000\">'violation'</span>,\n",
       "            <span style=\"color: #008000; text-decoration-color: #008000\">'shield_id'</span>: <span style=\"color: #008000; text-decoration-color: #008000\">'pii'</span>,\n",
       "            <span style=\"color: #008000; text-decoration-color: #008000\">'confidence_threshold'</span>: <span style=\"color: #008080; text-decoration-color: #008080; font-weight: bold\">0.5</span>,\n",
       "            <span style=\"color: #008000; text-decoration-color: #008000\">'summary'</span>: <span style=\"font-weight: bold\">{</span>\n",
       "                <span style=\"color: #008000; text-decoration-color: #008000\">'total_messages'</span>: <span style=\"color: #008080; text-decoration-color: #008080; font-weight: bold\">1</span>,\n",
       "                <span style=\"color: #008000; text-decoration-color: #008000\">'processed_messages'</span>: <span style=\"color: #008080; text-decoration-color: #008080; font-weight: bold\">1</span>,\n",
       "                <span style=\"color: #008000; text-decoration-color: #008000\">'skipped_messages'</span>: <span style=\"color: #008080; text-decoration-color: #008080; font-weight: bold\">0</span>,\n",
       "                <span style=\"color: #008000; text-decoration-color: #008000\">'messages_with_violations'</span>: <span style=\"color: #008080; text-decoration-color: #008080; font-weight: bold\">1</span>,\n",
       "                <span style=\"color: #008000; text-decoration-color: #008000\">'messages_passed'</span>: <span style=\"color: #008080; text-decoration-color: #008080; font-weight: bold\">0</span>,\n",
       "                <span style=\"color: #008000; text-decoration-color: #008000\">'message_fail_rate'</span>: <span style=\"color: #008080; text-decoration-color: #008080; font-weight: bold\">1.0</span>,\n",
       "                <span style=\"color: #008000; text-decoration-color: #008000\">'message_pass_rate'</span>: <span style=\"color: #008080; text-decoration-color: #008080; font-weight: bold\">0.0</span>,\n",
       "                <span style=\"color: #008000; text-decoration-color: #008000\">'total_detections'</span>: <span style=\"color: #008080; text-decoration-color: #008080; font-weight: bold\">1</span>,\n",
       "                <span style=\"color: #008000; text-decoration-color: #008000\">'detector_breakdown'</span>: <span style=\"font-weight: bold\">{</span>\n",
       "                    <span style=\"color: #008000; text-decoration-color: #008000\">'active_detectors'</span>: <span style=\"color: #008080; text-decoration-color: #008080; font-weight: bold\">1</span>,\n",
       "                    <span style=\"color: #008000; text-decoration-color: #008000\">'total_checks_performed'</span>: <span style=\"color: #008080; text-decoration-color: #008080; font-weight: bold\">1</span>,\n",
       "                    <span style=\"color: #008000; text-decoration-color: #008000\">'total_violations_found'</span>: <span style=\"color: #008080; text-decoration-color: #008080; font-weight: bold\">1</span>,\n",
       "                    <span style=\"color: #008000; text-decoration-color: #008000\">'violations_per_message'</span>: <span style=\"color: #008080; text-decoration-color: #008080; font-weight: bold\">1.0</span>\n",
       "                <span style=\"font-weight: bold\">}</span>\n",
       "            <span style=\"font-weight: bold\">}</span>,\n",
       "            <span style=\"color: #008000; text-decoration-color: #008000\">'results'</span>: <span style=\"font-weight: bold\">[</span>\n",
       "                <span style=\"font-weight: bold\">{</span>\n",
       "                    <span style=\"color: #008000; text-decoration-color: #008000\">'message_index'</span>: <span style=\"color: #008080; text-decoration-color: #008080; font-weight: bold\">0</span>,\n",
       "                    <span style=\"color: #008000; text-decoration-color: #008000\">'text'</span>: <span style=\"color: #008000; text-decoration-color: #008000\">'What is the weather in New York City today? id is AB123456(8), can you check it?'</span>,\n",
       "                    <span style=\"color: #008000; text-decoration-color: #008000\">'status'</span>: <span style=\"color: #008000; text-decoration-color: #008000\">'violation'</span>,\n",
       "                    <span style=\"color: #008000; text-decoration-color: #008000\">'score'</span>: <span style=\"color: #008080; text-decoration-color: #008080; font-weight: bold\">1.0</span>,\n",
       "                    <span style=\"color: #008000; text-decoration-color: #008000\">'detection_type'</span>: <span style=\"color: #008000; text-decoration-color: #008000\">'custom'</span>,\n",
       "                    <span style=\"color: #008000; text-decoration-color: #008000\">'individual_detector_results'</span>: <span style=\"font-weight: bold\">[</span>\n",
       "                        <span style=\"font-weight: bold\">{</span><span style=\"color: #008000; text-decoration-color: #008000\">'detector_id'</span>: <span style=\"color: #008000; text-decoration-color: #008000\">'regex'</span>, <span style=\"color: #008000; text-decoration-color: #008000\">'status'</span>: <span style=\"color: #008000; text-decoration-color: #008000\">'violation'</span>, <span style=\"color: #008000; text-decoration-color: #008000\">'score'</span>: <span style=\"color: #008080; text-decoration-color: #008080; font-weight: bold\">1.0</span>, <span style=\"color: #008000; text-decoration-color: #008000\">'detection_type'</span>: <span style=\"color: #008000; text-decoration-color: #008000\">'custom'</span><span style=\"font-weight: bold\">}</span>\n",
       "                    <span style=\"font-weight: bold\">]</span>\n",
       "                <span style=\"font-weight: bold\">}</span>\n",
       "            <span style=\"font-weight: bold\">]</span>\n",
       "        <span style=\"font-weight: bold\">}</span>,\n",
       "        <span style=\"color: #808000; text-decoration-color: #808000\">violation_level</span>=<span style=\"color: #008000; text-decoration-color: #008000\">'error'</span>,\n",
       "        <span style=\"color: #808000; text-decoration-color: #808000\">user_message</span>=<span style=\"color: #008000; text-decoration-color: #008000\">'Content violation detected by shield pii (confidence: 1.00, 1/1 processed messages violated)'</span>\n",
       "    <span style=\"font-weight: bold\">)</span>\n",
       "<span style=\"font-weight: bold\">)</span>\n",
       "</pre>\n"
      ],
      "text/plain": [
       "\u001b[1;35mRunShieldResponse\u001b[0m\u001b[1m(\u001b[0m\n",
       "    \u001b[33mviolation\u001b[0m=\u001b[1;35mSafetyViolation\u001b[0m\u001b[1m(\u001b[0m\n",
       "        \u001b[33mmetadata\u001b[0m=\u001b[1m{\u001b[0m\n",
       "            \u001b[32m'status'\u001b[0m: \u001b[32m'violation'\u001b[0m,\n",
       "            \u001b[32m'shield_id'\u001b[0m: \u001b[32m'pii'\u001b[0m,\n",
       "            \u001b[32m'confidence_threshold'\u001b[0m: \u001b[1;36m0.5\u001b[0m,\n",
       "            \u001b[32m'summary'\u001b[0m: \u001b[1m{\u001b[0m\n",
       "                \u001b[32m'total_messages'\u001b[0m: \u001b[1;36m1\u001b[0m,\n",
       "                \u001b[32m'processed_messages'\u001b[0m: \u001b[1;36m1\u001b[0m,\n",
       "                \u001b[32m'skipped_messages'\u001b[0m: \u001b[1;36m0\u001b[0m,\n",
       "                \u001b[32m'messages_with_violations'\u001b[0m: \u001b[1;36m1\u001b[0m,\n",
       "                \u001b[32m'messages_passed'\u001b[0m: \u001b[1;36m0\u001b[0m,\n",
       "                \u001b[32m'message_fail_rate'\u001b[0m: \u001b[1;36m1.0\u001b[0m,\n",
       "                \u001b[32m'message_pass_rate'\u001b[0m: \u001b[1;36m0.0\u001b[0m,\n",
       "                \u001b[32m'total_detections'\u001b[0m: \u001b[1;36m1\u001b[0m,\n",
       "                \u001b[32m'detector_breakdown'\u001b[0m: \u001b[1m{\u001b[0m\n",
       "                    \u001b[32m'active_detectors'\u001b[0m: \u001b[1;36m1\u001b[0m,\n",
       "                    \u001b[32m'total_checks_performed'\u001b[0m: \u001b[1;36m1\u001b[0m,\n",
       "                    \u001b[32m'total_violations_found'\u001b[0m: \u001b[1;36m1\u001b[0m,\n",
       "                    \u001b[32m'violations_per_message'\u001b[0m: \u001b[1;36m1.0\u001b[0m\n",
       "                \u001b[1m}\u001b[0m\n",
       "            \u001b[1m}\u001b[0m,\n",
       "            \u001b[32m'results'\u001b[0m: \u001b[1m[\u001b[0m\n",
       "                \u001b[1m{\u001b[0m\n",
       "                    \u001b[32m'message_index'\u001b[0m: \u001b[1;36m0\u001b[0m,\n",
       "                    \u001b[32m'text'\u001b[0m: \u001b[32m'What is the weather in New York City today? id is AB123456\u001b[0m\u001b[32m(\u001b[0m\u001b[32m8\u001b[0m\u001b[32m)\u001b[0m\u001b[32m, can you check it?'\u001b[0m,\n",
       "                    \u001b[32m'status'\u001b[0m: \u001b[32m'violation'\u001b[0m,\n",
       "                    \u001b[32m'score'\u001b[0m: \u001b[1;36m1.0\u001b[0m,\n",
       "                    \u001b[32m'detection_type'\u001b[0m: \u001b[32m'custom'\u001b[0m,\n",
       "                    \u001b[32m'individual_detector_results'\u001b[0m: \u001b[1m[\u001b[0m\n",
       "                        \u001b[1m{\u001b[0m\u001b[32m'detector_id'\u001b[0m: \u001b[32m'regex'\u001b[0m, \u001b[32m'status'\u001b[0m: \u001b[32m'violation'\u001b[0m, \u001b[32m'score'\u001b[0m: \u001b[1;36m1.0\u001b[0m, \u001b[32m'detection_type'\u001b[0m: \u001b[32m'custom'\u001b[0m\u001b[1m}\u001b[0m\n",
       "                    \u001b[1m]\u001b[0m\n",
       "                \u001b[1m}\u001b[0m\n",
       "            \u001b[1m]\u001b[0m\n",
       "        \u001b[1m}\u001b[0m,\n",
       "        \u001b[33mviolation_level\u001b[0m=\u001b[32m'error'\u001b[0m,\n",
       "        \u001b[33muser_message\u001b[0m=\u001b[32m'Content violation detected by shield pii \u001b[0m\u001b[32m(\u001b[0m\u001b[32mconfidence: 1.00, 1/1 processed messages violated\u001b[0m\u001b[32m)\u001b[0m\u001b[32m'\u001b[0m\n",
       "    \u001b[1m)\u001b[0m\n",
       "\u001b[1m)\u001b[0m\n"
      ]
     },
     "metadata": {},
     "output_type": "display_data"
    },
    {
     "name": "stderr",
     "output_type": "stream",
     "text": [
      "INFO:httpx:HTTP Request: POST http://llamastack:8321/v1/agents \"HTTP/1.1 200 OK\"\n",
      "INFO:httpx:HTTP Request: POST http://llamastack:8321/v1/agents/079b0faa-acc9-4274-9713-69fec2dec306/session \"HTTP/1.1 200 OK\"\n",
      "INFO:httpx:HTTP Request: POST http://llamastack:8321/v1/agents/079b0faa-acc9-4274-9713-69fec2dec306/session/87f95a72-3c37-4bf0-a1b4-abc4b120d14e/turn \"HTTP/1.1 200 OK\"\n"
     ]
    },
    {
     "name": "stdout",
     "output_type": "stream",
     "text": [
      "\u001b[35mshield_call> No Violation\u001b[0m\n",
      "\u001b[33minference> \u001b[0m\u001b[33m<think>\u001b[0m\u001b[33m\n",
      "\u001b[0m\u001b[33mOkay\u001b[0m\u001b[33m,\u001b[0m\u001b[33m the\u001b[0m\u001b[33m user\u001b[0m\u001b[33m is\u001b[0m\u001b[33m asking\u001b[0m\u001b[33m about\u001b[0m\u001b[33m the\u001b[0m\u001b[33m weather\u001b[0m\u001b[33m in\u001b[0m\u001b[33m New\u001b[0m\u001b[33m York\u001b[0m\u001b[33m City\u001b[0m\u001b[33m today\u001b[0m\u001b[33m and\u001b[0m\u001b[33m provided\u001b[0m\u001b[33m an\u001b[0m\u001b[33m ID\u001b[0m\u001b[33m:\u001b[0m\u001b[33m AB\u001b[0m\u001b[33m1\u001b[0m\u001b[33m2\u001b[0m\u001b[33m3\u001b[0m\u001b[33m4\u001b[0m\u001b[33m5\u001b[0m\u001b[33m6\u001b[0m\u001b[33m(\u001b[0m\u001b[33m8\u001b[0m\u001b[33m).\u001b[0m\u001b[33m Let\u001b[0m\u001b[33m me\u001b[0m\u001b[33m check\u001b[0m\u001b[33m if\u001b[0m\u001b[33m I\u001b[0m\u001b[33m can\u001b[0m\u001b[33m access\u001b[0m\u001b[33m real\u001b[0m\u001b[33m-time\u001b[0m\u001b[33m weather\u001b[0m\u001b[33m data\u001b[0m\u001b[33m.\u001b[0m\u001b[33m I\u001b[0m\u001b[33m know\u001b[0m\u001b[33m that\u001b[0m\u001b[33m my\u001b[0m\u001b[33m current\u001b[0m\u001b[33m capabilities\u001b[0m\u001b[33m are\u001b[0m\u001b[33m based\u001b[0m\u001b[33m on\u001b[0m\u001b[33m pre\u001b[0m\u001b[33m-existing\u001b[0m\u001b[33m knowledge\u001b[0m\u001b[33m up\u001b[0m\u001b[33m until\u001b[0m\u001b[33m July\u001b[0m\u001b[33m \u001b[0m\u001b[33m2\u001b[0m\u001b[33m0\u001b[0m\u001b[33m2\u001b[0m\u001b[33m4\u001b[0m\u001b[33m,\u001b[0m\u001b[33m and\u001b[0m\u001b[33m I\u001b[0m\u001b[33m don\u001b[0m\u001b[33m't\u001b[0m\u001b[33m have\u001b[0m\u001b[33m access\u001b[0m\u001b[33m to\u001b[0m\u001b[33m live\u001b[0m\u001b[33m internet\u001b[0m\u001b[33m or\u001b[0m\u001b[33m external\u001b[0m\u001b[33m databases\u001b[0m\u001b[33m.\u001b[0m\u001b[33m So\u001b[0m\u001b[33m I\u001b[0m\u001b[33m can\u001b[0m\u001b[33m't\u001b[0m\u001b[33m check\u001b[0m\u001b[33m the\u001b[0m\u001b[33m current\u001b[0m\u001b[33m weather\u001b[0m\u001b[33m or\u001b[0m\u001b[33m any\u001b[0m\u001b[33m specific\u001b[0m\u001b[33m ID\u001b[0m\u001b[33m-related\u001b[0m\u001b[33m information\u001b[0m\u001b[33m.\n",
      "\n",
      "\u001b[0m\u001b[33mFirst\u001b[0m\u001b[33m,\u001b[0m\u001b[33m I\u001b[0m\u001b[33m should\u001b[0m\u001b[33m inform\u001b[0m\u001b[33m the\u001b[0m\u001b[33m user\u001b[0m\u001b[33m that\u001b[0m\u001b[33m I\u001b[0m\u001b[33m can\u001b[0m\u001b[33m't\u001b[0m\u001b[33m access\u001b[0m\u001b[33m real\u001b[0m\u001b[33m-time\u001b[0m\u001b[33m weather\u001b[0m\u001b[33m data\u001b[0m\u001b[33m.\u001b[0m\u001b[33m Maybe\u001b[0m\u001b[33m they\u001b[0m\u001b[33m need\u001b[0m\u001b[33m a\u001b[0m\u001b[33m weather\u001b[0m\u001b[33m service\u001b[0m\u001b[33m or\u001b[0m\u001b[33m app\u001b[0m\u001b[33m.\u001b[0m\u001b[33m Also\u001b[0m\u001b[33m,\u001b[0m\u001b[33m the\u001b[0m\u001b[33m ID\u001b[0m\u001b[33m they\u001b[0m\u001b[33m provided\u001b[0m\u001b[33m might\u001b[0m\u001b[33m be\u001b[0m\u001b[33m for\u001b[0m\u001b[33m a\u001b[0m\u001b[33m specific\u001b[0m\u001b[33m service\u001b[0m\u001b[33m or\u001b[0m\u001b[33m account\u001b[0m\u001b[33m,\u001b[0m\u001b[33m but\u001b[0m\u001b[33m without\u001b[0m\u001b[33m knowing\u001b[0m\u001b[33m what\u001b[0m\u001b[33m that\u001b[0m\u001b[33m ID\u001b[0m\u001b[33m is\u001b[0m\u001b[33m for\u001b[0m\u001b[33m,\u001b[0m\u001b[33m I\u001b[0m\u001b[33m can\u001b[0m\u001b[33m't\u001b[0m\u001b[33m check\u001b[0m\u001b[33m it\u001b[0m\u001b[33m.\u001b[0m\u001b[33m I\u001b[0m\u001b[33m should\u001b[0m\u001b[33m ask\u001b[0m\u001b[33m them\u001b[0m\u001b[33m to\u001b[0m\u001b[33m clarify\u001b[0m\u001b[33m if\u001b[0m\u001b[33m they\u001b[0m\u001b[33m need\u001b[0m\u001b[33m help\u001b[0m\u001b[33m with\u001b[0m\u001b[33m something\u001b[0m\u001b[33m else\u001b[0m\u001b[33m related\u001b[0m\u001b[33m to\u001b[0m\u001b[33m the\u001b[0m\u001b[33m weather\u001b[0m\u001b[33m or\u001b[0m\u001b[33m if\u001b[0m\u001b[33m there\u001b[0m\u001b[33m's\u001b[0m\u001b[33m another\u001b[0m\u001b[33m way\u001b[0m\u001b[33m I\u001b[0m\u001b[33m can\u001b[0m\u001b[33m assist\u001b[0m\u001b[33m.\u001b[0m\u001b[33m I\u001b[0m\u001b[33m need\u001b[0m\u001b[33m to\u001b[0m\u001b[33m make\u001b[0m\u001b[33m sure\u001b[0m\u001b[33m my\u001b[0m\u001b[33m response\u001b[0m\u001b[33m is\u001b[0m\u001b[33m helpful\u001b[0m\u001b[33m and\u001b[0m\u001b[33m clear\u001b[0m\u001b[33m,\u001b[0m\u001b[33m letting\u001b[0m\u001b[33m them\u001b[0m\u001b[33m know\u001b[0m\u001b[33m my\u001b[0m\u001b[33m limitations\u001b[0m\u001b[33m while\u001b[0m\u001b[33m offering\u001b[0m\u001b[33m alternative\u001b[0m\u001b[33m solutions\u001b[0m\u001b[33m.\n",
      "\u001b[0m\u001b[33m</think>\u001b[0m\u001b[33m\n",
      "\n",
      "\u001b[0m\u001b[33mI\u001b[0m\u001b[33m currently\u001b[0m\u001b[33m don\u001b[0m\u001b[33m't\u001b[0m\u001b[33m have\u001b[0m\u001b[33m access\u001b[0m\u001b[33m to\u001b[0m\u001b[33m real\u001b[0m\u001b[33m-time\u001b[0m\u001b[33m weather\u001b[0m\u001b[33m data\u001b[0m\u001b[33m or\u001b[0m\u001b[33m external\u001b[0m\u001b[33m systems\u001b[0m\u001b[33m to\u001b[0m\u001b[33m check\u001b[0m\u001b[33m specific\u001b[0m\u001b[33m IDs\u001b[0m\u001b[33m like\u001b[0m\u001b[33m \"\u001b[0m\u001b[33mAB\u001b[0m\u001b[33m1\u001b[0m\u001b[33m2\u001b[0m\u001b[33m3\u001b[0m\u001b[33m4\u001b[0m\u001b[33m5\u001b[0m\u001b[33m6\u001b[0m\u001b[33m(\u001b[0m\u001b[33m8\u001b[0m\u001b[33m)\".\u001b[0m\u001b[33m For\u001b[0m\u001b[33m the\u001b[0m\u001b[33m latest\u001b[0m\u001b[33m weather\u001b[0m\u001b[33m in\u001b[0m\u001b[33m New\u001b[0m\u001b[33m York\u001b[0m\u001b[33m City\u001b[0m\u001b[33m,\u001b[0m\u001b[33m I\u001b[0m\u001b[33m recommend\u001b[0m\u001b[33m checking\u001b[0m\u001b[33m a\u001b[0m\u001b[33m trusted\u001b[0m\u001b[33m weather\u001b[0m\u001b[33m service\u001b[0m\u001b[33m like\u001b[0m\u001b[33m the\u001b[0m\u001b[33m National\u001b[0m\u001b[33m Weather\u001b[0m\u001b[33m Service\u001b[0m\u001b[33m (\u001b[0m\u001b[33mweather\u001b[0m\u001b[33m.gov\u001b[0m\u001b[33m),\u001b[0m\u001b[33m Weather\u001b[0m\u001b[33m.com\u001b[0m\u001b[33m,\u001b[0m\u001b[33m or\u001b[0m\u001b[33m a\u001b[0m\u001b[33m weather\u001b[0m\u001b[33m app\u001b[0m\u001b[33m.\u001b[0m\u001b[33m Let\u001b[0m\u001b[33m me\u001b[0m\u001b[33m know\u001b[0m\u001b[33m if\u001b[0m\u001b[33m you\u001b[0m\u001b[33m'd\u001b[0m\u001b[33m like\u001b[0m\u001b[33m help\u001b[0m\u001b[33m with\u001b[0m\u001b[33m anything\u001b[0m\u001b[33m else\u001b[0m\u001b[33m!\u001b[0m\u001b[33m 🌤\u001b[0m\u001b[33m️\u001b[0m\u001b[97m\u001b[0m\n",
      "\u001b[35mshield_call> No Violation\u001b[0m\n",
      "\u001b[30m\u001b[0m"
     ]
    }
   ],
   "source": [
    "quary = \"What is the weather in New York City today? id is AB123456(8), can you check it?\"\n",
    "message = UserMessage(\n",
    "    content=quary,\n",
    "    role=\"user\"\n",
    ")\n",
    "\n",
    "shield_id = \"pii\"\n",
    "response = client.safety.run_shield(\n",
    "    shield_id=shield_id, messages=[message], params={}\n",
    ")\n",
    "\n",
    "if response.violation.metadata.get(\"status\") != \"pass\":\n",
    "    model_id = \"qwen\"\n",
    "    rich.print(response)\n",
    "\n",
    "agent = Agent(\n",
    "    client,\n",
    "    model=model_id,\n",
    "    instructions=\"You are a helpful assistant that can help to answer questions.\",\n",
    "    sampling_params=sampling_params,\n",
    "    input_shields=[\"hap\"],\n",
    "    output_shields=[\"hap\"],\n",
    ")\n",
    "\n",
    "session_id = agent.create_session(session_name=\"My conversation\")\n",
    "\n",
    "turn_response = agent.create_turn(\n",
    "    session_id=session_id,\n",
    "    messages=[message],\n",
    ")\n",
    "for log in AgentEventLogger().log(turn_response):\n",
    "    log.print()"
   ]
  },
  {
   "cell_type": "code",
   "execution_count": null,
   "metadata": {},
   "outputs": [],
   "source": []
  }
 ],
 "metadata": {
  "kernelspec": {
   "display_name": "Python 3.11",
   "language": "python",
   "name": "python3"
  },
  "language_info": {
   "codemirror_mode": {
    "name": "ipython",
    "version": 3
   },
   "file_extension": ".py",
   "mimetype": "text/x-python",
   "name": "python",
   "nbconvert_exporter": "python",
   "pygments_lexer": "ipython3",
   "version": "3.11.11"
  }
 },
 "nbformat": 4,
 "nbformat_minor": 4
}
