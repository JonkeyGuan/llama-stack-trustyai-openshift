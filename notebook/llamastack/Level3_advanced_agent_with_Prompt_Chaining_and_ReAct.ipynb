{
 "cells": [
  {
   "cell_type": "markdown",
   "metadata": {},
   "source": [
    "# Level 3: Advanced Agent Capabilities with Prompt Chaining and ReAct Agent\n",
    "\n",
    "Building on the simple agent introduced in [Level 2](Level2_simple_agent_with_websearch.ipynb), this tutorial continues the agent-focused section of our series by introducing techniques that make the agent smarter and more autonomous: **Prompt Chaining** and the **ReAct (Reasoning + Acting) framework**. These approaches allow the agent to complete multi-step tasks, dynamically choose tools, and adjust its behavior based on context.\n",
    "\n",
    "- **Prompt Chaining** connects multiple prompts into a coherent sequence, allowing the agent to maintain context and perform multi-step reasoning across tool invocations. \n",
    "- **ReAct Agent** combines reasoning and acting steps in a loop, enabling the agent to make decisions, use tools dynamically, and adapt based on intermediate results. \n",
    "\n",
    "## Overview\n",
    "\n",
    "In this notebook, you'll explore three agent configurations:\n",
    "1. **Simple Agent (Baseline)** – Uses a single web search tool.\n",
    "2. **Prompt Chaining** – Performs structured, multi-step reasoning by chaining prompts and responses.\n",
    "3. **ReAct Agent** – Dynamically plans and executes actions using a loop of reasoning and tool use.\n",
    "\n",
    "\n",
    "## Prerequisites\n",
    "\n",
    "Before starting this notebook, ensure that you have:\n",
    "- Followed the instructions in the [Setup Guide](./Level0_getting_started_with_Llama_Stack.ipynb) notebook. \n",
    "- A Tavily API key. It is critical for this notebook to run correctly. You can register for one at [https://tavily.com/](https://tavily.com/)."
   ]
  },
  {
   "cell_type": "markdown",
   "metadata": {},
   "source": [
    "## 1. Setting Up this Notebook\n",
    "We will start with a few imports needed for this demo only."
   ]
  },
  {
   "cell_type": "code",
   "execution_count": 1,
   "metadata": {},
   "outputs": [
    {
     "name": "stdout",
     "output_type": "stream",
     "text": [
      "Collecting geocoder\n",
      "  Downloading geocoder-1.38.1-py2.py3-none-any.whl.metadata (14 kB)\n",
      "Requirement already satisfied: click in /opt/app-root/lib64/python3.11/site-packages (from geocoder) (8.2.1)\n",
      "Collecting future (from geocoder)\n",
      "  Downloading future-1.0.0-py3-none-any.whl.metadata (4.0 kB)\n",
      "Collecting ratelim (from geocoder)\n",
      "  Downloading ratelim-0.1.6-py2.py3-none-any.whl.metadata (1.4 kB)\n",
      "Requirement already satisfied: requests in /opt/app-root/lib64/python3.11/site-packages (from geocoder) (2.32.4)\n",
      "Requirement already satisfied: six in /opt/app-root/lib64/python3.11/site-packages (from geocoder) (1.17.0)\n",
      "Requirement already satisfied: decorator in /opt/app-root/lib64/python3.11/site-packages (from ratelim->geocoder) (5.2.1)\n",
      "Requirement already satisfied: charset_normalizer<4,>=2 in /opt/app-root/lib64/python3.11/site-packages (from requests->geocoder) (3.4.2)\n",
      "Requirement already satisfied: idna<4,>=2.5 in /opt/app-root/lib64/python3.11/site-packages (from requests->geocoder) (3.10)\n",
      "Requirement already satisfied: urllib3<3,>=1.21.1 in /opt/app-root/lib64/python3.11/site-packages (from requests->geocoder) (1.26.20)\n",
      "Requirement already satisfied: certifi>=2017.4.17 in /opt/app-root/lib64/python3.11/site-packages (from requests->geocoder) (2025.6.15)\n",
      "Downloading geocoder-1.38.1-py2.py3-none-any.whl (98 kB)\n",
      "Downloading future-1.0.0-py3-none-any.whl (491 kB)\n",
      "Downloading ratelim-0.1.6-py2.py3-none-any.whl (4.0 kB)\n",
      "Installing collected packages: ratelim, future, geocoder\n",
      "Successfully installed future-1.0.0 geocoder-1.38.1 ratelim-0.1.6\n",
      "\n",
      "\u001b[1m[\u001b[0m\u001b[34;49mnotice\u001b[0m\u001b[1;39;49m]\u001b[0m\u001b[39;49m A new release of pip is available: \u001b[0m\u001b[31;49m24.2\u001b[0m\u001b[39;49m -> \u001b[0m\u001b[32;49m25.2\u001b[0m\n",
      "\u001b[1m[\u001b[0m\u001b[34;49mnotice\u001b[0m\u001b[1;39;49m]\u001b[0m\u001b[39;49m To update, run: \u001b[0m\u001b[32;49mpip install --upgrade pip\u001b[0m\n"
     ]
    }
   ],
   "source": [
    "!pip install geocoder "
   ]
  },
  {
   "cell_type": "code",
   "execution_count": 2,
   "metadata": {},
   "outputs": [
    {
     "name": "stdout",
     "output_type": "stream",
     "text": [
      "Collecting pydantic>=2.0\n",
      "  Downloading pydantic-2.11.7-py3-none-any.whl.metadata (67 kB)\n",
      "Collecting annotated-types>=0.6.0 (from pydantic>=2.0)\n",
      "  Downloading annotated_types-0.7.0-py3-none-any.whl.metadata (15 kB)\n",
      "Collecting pydantic-core==2.33.2 (from pydantic>=2.0)\n",
      "  Downloading pydantic_core-2.33.2-cp311-cp311-manylinux_2_17_x86_64.manylinux2014_x86_64.whl.metadata (6.8 kB)\n",
      "Requirement already satisfied: typing-extensions>=4.12.2 in /opt/app-root/lib64/python3.11/site-packages (from pydantic>=2.0) (4.14.0)\n",
      "Collecting typing-inspection>=0.4.0 (from pydantic>=2.0)\n",
      "  Downloading typing_inspection-0.4.1-py3-none-any.whl.metadata (2.6 kB)\n",
      "Downloading pydantic-2.11.7-py3-none-any.whl (444 kB)\n",
      "Downloading pydantic_core-2.33.2-cp311-cp311-manylinux_2_17_x86_64.manylinux2014_x86_64.whl (2.0 MB)\n",
      "\u001b[2K   \u001b[90m━━━━━━━━━━━━━━━━━━━━━━━━━━━━━━━━━━━━━━━━\u001b[0m \u001b[32m2.0/2.0 MB\u001b[0m \u001b[31m24.7 MB/s\u001b[0m eta \u001b[36m0:00:00\u001b[0m\n",
      "\u001b[?25hDownloading annotated_types-0.7.0-py3-none-any.whl (13 kB)\n",
      "Downloading typing_inspection-0.4.1-py3-none-any.whl (14 kB)\n",
      "Installing collected packages: typing-inspection, pydantic-core, annotated-types, pydantic\n",
      "  Attempting uninstall: pydantic\n",
      "    Found existing installation: pydantic 1.10.22\n",
      "    Uninstalling pydantic-1.10.22:\n",
      "      Successfully uninstalled pydantic-1.10.22\n",
      "\u001b[31mERROR: pip's dependency resolver does not currently take into account all the packages that are installed. This behaviour is the source of the following dependency conflicts.\n",
      "codeflare-sdk 0.29.0 requires pydantic<2, but you have pydantic 2.11.7 which is incompatible.\u001b[0m\u001b[31m\n",
      "\u001b[0mSuccessfully installed annotated-types-0.7.0 pydantic-2.11.7 pydantic-core-2.33.2 typing-inspection-0.4.1\n",
      "\n",
      "\u001b[1m[\u001b[0m\u001b[34;49mnotice\u001b[0m\u001b[1;39;49m]\u001b[0m\u001b[39;49m A new release of pip is available: \u001b[0m\u001b[31;49m24.2\u001b[0m\u001b[39;49m -> \u001b[0m\u001b[32;49m25.2\u001b[0m\n",
      "\u001b[1m[\u001b[0m\u001b[34;49mnotice\u001b[0m\u001b[1;39;49m]\u001b[0m\u001b[39;49m To update, run: \u001b[0m\u001b[32;49mpip install --upgrade pip\u001b[0m\n"
     ]
    }
   ],
   "source": [
    "!pip install --upgrade \"pydantic>=2.0\""
   ]
  },
  {
   "cell_type": "code",
   "execution_count": 3,
   "metadata": {},
   "outputs": [],
   "source": [
    "from llama_stack_client import Agent\n",
    "from llama_stack_client.lib.agents.event_logger import EventLogger\n",
    "from llama_stack_client.lib.agents.react.agent import ReActAgent\n",
    "from llama_stack_client.lib.agents.react.tool_parser import ReActOutput\n",
    "import sys\n",
    "sys.path.append('..') \n",
    "from src.client_tools import get_location"
   ]
  },
  {
   "cell_type": "markdown",
   "metadata": {},
   "source": [
    "Next, we will initialize our environment as described in detail in our [\"Getting Started\" notebook](./Level0_getting_started_with_Llama_Stack.ipynb). Please refer to it for additional explanations."
   ]
  },
  {
   "cell_type": "code",
   "execution_count": 4,
   "metadata": {},
   "outputs": [
    {
     "name": "stdout",
     "output_type": "stream",
     "text": [
      "Connected to Llama Stack server\n",
      "Inference Parameters:\n",
      "\tModel: granite\n",
      "\tSampling Parameters: {'strategy': {'type': 'greedy'}, 'max_tokens': 2048}\n",
      "\tstream: False\n"
     ]
    }
   ],
   "source": [
    "# for accessing the environment variables\n",
    "import os\n",
    "from dotenv import load_dotenv\n",
    "load_dotenv()\n",
    "\n",
    "# for communication with Llama Stack\n",
    "from llama_stack_client import LlamaStackClient\n",
    "\n",
    "# pretty print of the results returned from the model/agent\n",
    "import sys\n",
    "sys.path.append('..')  \n",
    "from src.utils import step_printer\n",
    "from termcolor import cprint\n",
    "\n",
    "base_url = os.getenv(\"REMOTE_BASE_URL\")\n",
    "\n",
    "\n",
    "# Tavily search API key is required for some of our demos and must be provided to the client upon initialization.\n",
    "# We will cover it in the agentic demos that use the respective tool. Please ignore this parameter for all other demos.\n",
    "tavily_search_api_key = os.getenv(\"TAVILY_SEARCH_API_KEY\")\n",
    "if tavily_search_api_key is None:\n",
    "    provider_data = None\n",
    "else:\n",
    "    provider_data = {\"tavily_search_api_key\": tavily_search_api_key}\n",
    "\n",
    "\n",
    "client = LlamaStackClient(\n",
    "    base_url=base_url,\n",
    "    provider_data=provider_data\n",
    ")\n",
    "    \n",
    "print(f\"Connected to Llama Stack server\")\n",
    "\n",
    "# model_id for the model you wish to use that is configured with the Llama Stack server\n",
    "# model_id = \"deepseek\"\n",
    "model_id = \"granite\"\n",
    "\n",
    "temperature = float(os.getenv(\"TEMPERATURE\", 0.0))\n",
    "if temperature > 0.0:\n",
    "    top_p = float(os.getenv(\"TOP_P\", 0.95))\n",
    "    strategy = {\"type\": \"top_p\", \"temperature\": temperature, \"top_p\": top_p}\n",
    "else:\n",
    "    strategy = {\"type\": \"greedy\"}\n",
    "\n",
    "max_tokens = int(os.getenv(\"MAX_TOKENS\", 4096))\n",
    "\n",
    "# sampling_params will later be used to pass the parameters to Llama Stack Agents/Inference APIs\n",
    "sampling_params = {\n",
    "    \"strategy\": strategy,\n",
    "    \"max_tokens\": max_tokens,\n",
    "}\n",
    "\n",
    "stream_env = os.getenv(\"STREAM\", \"False\")\n",
    "# the Boolean 'stream' parameter will later be passed to Llama Stack Agents/Inference APIs\n",
    "# any value non equal to 'False' will be considered as 'True'\n",
    "stream = (stream_env != \"False\")\n",
    "\n",
    "print(f\"Inference Parameters:\\n\\tModel: {model_id}\\n\\tSampling Parameters: {sampling_params}\\n\\tstream: {stream}\")"
   ]
  },
  {
   "cell_type": "markdown",
   "metadata": {},
   "source": [
    "## 2. Simple Agent (Baseline)\n",
    "Same agent setup as [Level 2 notebook](Level2_simple_agent_with_websearch.ipynb). "
   ]
  },
  {
   "cell_type": "code",
   "execution_count": 5,
   "metadata": {},
   "outputs": [
    {
     "name": "stderr",
     "output_type": "stream",
     "text": [
      "INFO:httpx:HTTP Request: POST http://llamastack:8321/v1/agents \"HTTP/1.1 200 OK\"\n",
      "INFO:httpx:HTTP Request: GET http://llamastack:8321/v1/tools?toolgroup_id=builtin%3A%3Awebsearch \"HTTP/1.1 200 OK\"\n",
      "INFO:httpx:HTTP Request: POST http://llamastack:8321/v1/agents/1af836a3-49b3-4545-8af5-350c77dc3e6a/session \"HTTP/1.1 200 OK\"\n",
      "INFO:httpx:HTTP Request: POST http://llamastack:8321/v1/agents/1af836a3-49b3-4545-8af5-350c77dc3e6a/session/e7392039-1c27-491e-8395-4c7c3e42bbdc/turn \"HTTP/1.1 200 OK\"\n"
     ]
    },
    {
     "name": "stdout",
     "output_type": "stream",
     "text": [
      "\n",
      "==================================================\n",
      "\u001b[34mProcessing user query: Are there any immediate weather-related risks in my area that could disrupt network connectivity or system availability?\u001b[0m\n",
      "==================================================\n",
      "\n",
      "---------- 📍 Step 1: InferenceStep ----------\n",
      "🛠️ Tool call Generated:\n",
      "\u001b[35mTool call: brave_search, Arguments: {'query': \"current weather risks in user's location\"}\u001b[0m\n",
      "\n",
      "---------- 📍 Step 2: ToolExecutionStep ----------\n",
      "🔧 Executing tool...\n"
     ]
    },
    {
     "data": {
      "text/html": [
       "<pre style=\"white-space:pre;overflow-x:auto;line-height:normal;font-family:Menlo,'DejaVu Sans Mono',consolas,'Courier New',monospace\"><span style=\"font-weight: bold\">{</span>\n",
       "<span style=\"color: #7fbf7f; text-decoration-color: #7fbf7f\">│   </span><span style=\"color: #008000; text-decoration-color: #008000\">'query'</span>: <span style=\"color: #008000; text-decoration-color: #008000\">\"current weather risks in user's location\"</span>,\n",
       "<span style=\"color: #7fbf7f; text-decoration-color: #7fbf7f\">│   </span><span style=\"color: #008000; text-decoration-color: #008000\">'top_k'</span>: <span style=\"font-weight: bold\">[</span>\n",
       "<span style=\"color: #7fbf7f; text-decoration-color: #7fbf7f\">│   │   </span><span style=\"font-weight: bold\">{</span>\n",
       "<span style=\"color: #7fbf7f; text-decoration-color: #7fbf7f\">│   │   │   </span><span style=\"color: #008000; text-decoration-color: #008000\">'title'</span>: <span style=\"color: #008000; text-decoration-color: #008000\">\"Weather in user's location\"</span>,\n",
       "<span style=\"color: #7fbf7f; text-decoration-color: #7fbf7f\">│   │   │   </span><span style=\"color: #008000; text-decoration-color: #008000\">'url'</span>: <span style=\"color: #008000; text-decoration-color: #008000\">'https://www.weatherapi.com/'</span>,\n",
       "<span style=\"color: #7fbf7f; text-decoration-color: #7fbf7f\">│   │   │   </span><span style=\"color: #008000; text-decoration-color: #008000\">'content'</span>: <span style=\"color: #008000; text-decoration-color: #008000\">\"{'location': {'name': 'Zebedielas Location', 'region': 'Limpopo', 'country': 'South Africa', 'lat': -24.4167, 'lon': 29.3833, 'tz_id': 'Africa/Johannesburg', 'localtime_epoch': 1756084799, 'localtime': '2025-08-25 03:19'}, 'current': {'last_updated_epoch': 1756084500, 'last_updated': '2025-08-25 03:15', 'temp_c': 18.1, 'temp_f': 64.5, 'is_day': 0, 'condition': {'text': 'Clear', 'icon': '//cdn.weatherapi.com/weather/64x64/night/113.png', 'code': 1000}, 'wind_mph': 4.5, 'wind_kph': 7.2, 'wind_degree': 43, 'wind_dir': 'NE', 'pressure_mb': 1017.0, 'pressure_in': 30.04, 'precip_mm': 0.0, 'precip_in': 0.0, 'humidity': 37, 'cloud': 0, 'feelslike_c': 18.1, 'feelslike_f': 64.5, 'windchill_c': 18.1, 'windchill_f': 64.5, 'heatindex_c': 18.1, 'heatindex_f': 64.5, 'dewpoint_c': 3.1, 'dewpoint_f': 37.5, 'vis_km': 10.0, 'vis_miles': 6.0, 'uv': 0.0, 'gust_mph': 9.4, 'gust_kph': 15.1}}\"</span>,\n",
       "<span style=\"color: #7fbf7f; text-decoration-color: #7fbf7f\">│   │   │   </span><span style=\"color: #008000; text-decoration-color: #008000\">'score'</span>: <span style=\"color: #008080; text-decoration-color: #008080; font-weight: bold\">0.9904004</span>,\n",
       "<span style=\"color: #7fbf7f; text-decoration-color: #7fbf7f\">│   │   │   </span><span style=\"color: #008000; text-decoration-color: #008000\">'raw_content'</span>: <span style=\"color: #800080; text-decoration-color: #800080; font-style: italic\">None</span>\n",
       "<span style=\"color: #7fbf7f; text-decoration-color: #7fbf7f\">│   │   </span><span style=\"font-weight: bold\">}</span>,\n",
       "<span style=\"color: #7fbf7f; text-decoration-color: #7fbf7f\">│   │   </span><span style=\"font-weight: bold\">{</span>\n",
       "<span style=\"color: #7fbf7f; text-decoration-color: #7fbf7f\">│   │   │   </span><span style=\"color: #008000; text-decoration-color: #008000\">'url'</span>: <span style=\"color: #008000; text-decoration-color: #008000\">'https://www.noaa.gov/weather-prediction-center'</span>,\n",
       "<span style=\"color: #7fbf7f; text-decoration-color: #7fbf7f\">│   │   │   </span><span style=\"color: #008000; text-decoration-color: #008000\">'title'</span>: <span style=\"color: #008000; text-decoration-color: #008000\">'Weather Prediction Center (WPC) Home Page - NOAA'</span>,\n",
       "<span style=\"color: #7fbf7f; text-decoration-color: #7fbf7f\">│   │   │   </span><span style=\"color: #008000; text-decoration-color: #008000\">'content'</span>: <span style=\"color: #008000; text-decoration-color: #008000\">\"Check out the HeatRisk page to understand potential heat impacts. headline2. Explore WPC's experimental Probabilistic Precipitation Portal. headline3\"</span>,\n",
       "<span style=\"color: #7fbf7f; text-decoration-color: #7fbf7f\">│   │   │   </span><span style=\"color: #008000; text-decoration-color: #008000\">'score'</span>: <span style=\"color: #008080; text-decoration-color: #008080; font-weight: bold\">0.98567</span>,\n",
       "<span style=\"color: #7fbf7f; text-decoration-color: #7fbf7f\">│   │   │   </span><span style=\"color: #008000; text-decoration-color: #008000\">'raw_content'</span>: <span style=\"color: #800080; text-decoration-color: #800080; font-style: italic\">None</span>\n",
       "<span style=\"color: #7fbf7f; text-decoration-color: #7fbf7f\">│   │   </span><span style=\"font-weight: bold\">}</span>,\n",
       "<span style=\"color: #7fbf7f; text-decoration-color: #7fbf7f\">│   │   </span><span style=\"font-weight: bold\">{</span>\n",
       "<span style=\"color: #7fbf7f; text-decoration-color: #7fbf7f\">│   │   │   </span><span style=\"color: #008000; text-decoration-color: #008000\">'url'</span>: <span style=\"color: #008000; text-decoration-color: #008000\">'https://digital.weather.gov/'</span>,\n",
       "<span style=\"color: #7fbf7f; text-decoration-color: #7fbf7f\">│   │   │   </span><span style=\"color: #008000; text-decoration-color: #008000\">'title'</span>: <span style=\"color: #008000; text-decoration-color: #008000\">'National Weather Service - Graphical Forecast'</span>,\n",
       "<span style=\"color: #7fbf7f; text-decoration-color: #7fbf7f\">│   │   │   </span><span style=\"color: #008000; text-decoration-color: #008000\">'content'</span>: <span style=\"color: #008000; text-decoration-color: #008000\">'Missing: risks 25/08/2025'</span>,\n",
       "<span style=\"color: #7fbf7f; text-decoration-color: #7fbf7f\">│   │   │   </span><span style=\"color: #008000; text-decoration-color: #008000\">'score'</span>: <span style=\"color: #008080; text-decoration-color: #008080; font-weight: bold\">0.98359</span>,\n",
       "<span style=\"color: #7fbf7f; text-decoration-color: #7fbf7f\">│   │   │   </span><span style=\"color: #008000; text-decoration-color: #008000\">'raw_content'</span>: <span style=\"color: #800080; text-decoration-color: #800080; font-style: italic\">None</span>\n",
       "<span style=\"color: #7fbf7f; text-decoration-color: #7fbf7f\">│   │   </span><span style=\"font-weight: bold\">}</span>,\n",
       "<span style=\"color: #7fbf7f; text-decoration-color: #7fbf7f\">│   │   </span><span style=\"font-weight: bold\">{</span>\n",
       "<span style=\"color: #7fbf7f; text-decoration-color: #7fbf7f\">│   │   │   </span><span style=\"color: #008000; text-decoration-color: #008000\">'url'</span>: <span style=\"color: #008000; text-decoration-color: #008000\">'https://www.weather.gov/media/directives/010_pdfs/pd01004001curr.pdf'</span>,\n",
       "<span style=\"color: #7fbf7f; text-decoration-color: #7fbf7f\">│   │   │   </span><span style=\"color: #008000; text-decoration-color: #008000\">'title'</span>: <span style=\"color: #008000; text-decoration-color: #008000\">'[PDF] national weather service instruction 10-401'</span>,\n",
       "<span style=\"color: #7fbf7f; text-decoration-color: #7fbf7f\">│   │   │   </span><span style=\"color: #008000; text-decoration-color: #008000\">'content'</span>: <span style=\"color: #008000; text-decoration-color: #008000\">'A. Page 7. 7. NWSI 10-401 AUGUST 25, 2025. WFO may also highlight particularly dangerous RFW conditions for the public, if this message is closely coordinated'</span>,\n",
       "<span style=\"color: #7fbf7f; text-decoration-color: #7fbf7f\">│   │   │   </span><span style=\"color: #008000; text-decoration-color: #008000\">'score'</span>: <span style=\"color: #008080; text-decoration-color: #008080; font-weight: bold\">0.97693</span>,\n",
       "<span style=\"color: #7fbf7f; text-decoration-color: #7fbf7f\">│   │   │   </span><span style=\"color: #008000; text-decoration-color: #008000\">'raw_content'</span>: <span style=\"color: #800080; text-decoration-color: #800080; font-style: italic\">None</span>\n",
       "<span style=\"color: #7fbf7f; text-decoration-color: #7fbf7f\">│   │   </span><span style=\"font-weight: bold\">}</span>,\n",
       "<span style=\"color: #7fbf7f; text-decoration-color: #7fbf7f\">│   │   </span><span style=\"font-weight: bold\">{</span>\n",
       "<span style=\"color: #7fbf7f; text-decoration-color: #7fbf7f\">│   │   │   </span><span style=\"color: #008000; text-decoration-color: #008000\">'url'</span>: <span style=\"color: #008000; text-decoration-color: #008000\">'https://www.wpc.ncep.noaa.gov/index.shtml'</span>,\n",
       "<span style=\"color: #7fbf7f; text-decoration-color: #7fbf7f\">│   │   │   </span><span style=\"color: #008000; text-decoration-color: #008000\">'title'</span>: <span style=\"color: #008000; text-decoration-color: #008000\">'Weather Prediction Center (WPC) Home Page'</span>,\n",
       "<span style=\"color: #7fbf7f; text-decoration-color: #7fbf7f\">│   │   │   </span><span style=\"color: #008000; text-decoration-color: #008000\">'content'</span>: <span style=\"color: #008000; text-decoration-color: #008000\">'Short Range Forecast Discussion NWS Weather Prediction Center College Park MD 400 PM EDT Sat Aug 23 2025. Valid 00Z Sun Aug 24 2025 - 00Z Tue Aug 26 2025'</span>,\n",
       "<span style=\"color: #7fbf7f; text-decoration-color: #7fbf7f\">│   │   │   </span><span style=\"color: #008000; text-decoration-color: #008000\">'score'</span>: <span style=\"color: #008080; text-decoration-color: #008080; font-weight: bold\">0.97356</span>,\n",
       "<span style=\"color: #7fbf7f; text-decoration-color: #7fbf7f\">│   │   │   </span><span style=\"color: #008000; text-decoration-color: #008000\">'raw_content'</span>: <span style=\"color: #800080; text-decoration-color: #800080; font-style: italic\">None</span>\n",
       "<span style=\"color: #7fbf7f; text-decoration-color: #7fbf7f\">│   │   </span><span style=\"font-weight: bold\">}</span>\n",
       "<span style=\"color: #7fbf7f; text-decoration-color: #7fbf7f\">│   </span><span style=\"font-weight: bold\">]</span>\n",
       "<span style=\"font-weight: bold\">}</span>\n",
       "</pre>\n"
      ],
      "text/plain": [
       "\u001b[1m{\u001b[0m\n",
       "\u001b[2;32m│   \u001b[0m\u001b[32m'query'\u001b[0m: \u001b[32m\"current weather risks in user's location\"\u001b[0m,\n",
       "\u001b[2;32m│   \u001b[0m\u001b[32m'top_k'\u001b[0m: \u001b[1m[\u001b[0m\n",
       "\u001b[2;32m│   │   \u001b[0m\u001b[1m{\u001b[0m\n",
       "\u001b[2;32m│   │   │   \u001b[0m\u001b[32m'title'\u001b[0m: \u001b[32m\"Weather in user's location\"\u001b[0m,\n",
       "\u001b[2;32m│   │   │   \u001b[0m\u001b[32m'url'\u001b[0m: \u001b[32m'https://www.weatherapi.com/'\u001b[0m,\n",
       "\u001b[2;32m│   │   │   \u001b[0m\u001b[32m'content'\u001b[0m: \u001b[32m\"\u001b[0m\u001b[32m{\u001b[0m\u001b[32m'location': \u001b[0m\u001b[32m{\u001b[0m\u001b[32m'name': 'Zebedielas Location', 'region': 'Limpopo', 'country': 'South Africa', 'lat': -24.4167, 'lon': 29.3833, 'tz_id': 'Africa/Johannesburg', 'localtime_epoch': 1756084799, 'localtime': '2025-08-25 03:19'\u001b[0m\u001b[32m}\u001b[0m\u001b[32m, 'current': \u001b[0m\u001b[32m{\u001b[0m\u001b[32m'last_updated_epoch': 1756084500, 'last_updated': '2025-08-25 03:15', 'temp_c': 18.1, 'temp_f': 64.5, 'is_day': 0, 'condition': \u001b[0m\u001b[32m{\u001b[0m\u001b[32m'text': 'Clear', 'icon': '//cdn.weatherapi.com/weather/64x64/night/113.png', 'code': 1000\u001b[0m\u001b[32m}\u001b[0m\u001b[32m, 'wind_mph': 4.5, 'wind_kph': 7.2, 'wind_degree': 43, 'wind_dir': 'NE', 'pressure_mb': 1017.0, 'pressure_in': 30.04, 'precip_mm': 0.0, 'precip_in': 0.0, 'humidity': 37, 'cloud': 0, 'feelslike_c': 18.1, 'feelslike_f': 64.5, 'windchill_c': 18.1, 'windchill_f': 64.5, 'heatindex_c': 18.1, 'heatindex_f': 64.5, 'dewpoint_c': 3.1, 'dewpoint_f': 37.5, 'vis_km': 10.0, 'vis_miles': 6.0, 'uv': 0.0, 'gust_mph': 9.4, 'gust_kph': 15.1\u001b[0m\u001b[32m}\u001b[0m\u001b[32m}\u001b[0m\u001b[32m\"\u001b[0m,\n",
       "\u001b[2;32m│   │   │   \u001b[0m\u001b[32m'score'\u001b[0m: \u001b[1;36m0.9904004\u001b[0m,\n",
       "\u001b[2;32m│   │   │   \u001b[0m\u001b[32m'raw_content'\u001b[0m: \u001b[3;35mNone\u001b[0m\n",
       "\u001b[2;32m│   │   \u001b[0m\u001b[1m}\u001b[0m,\n",
       "\u001b[2;32m│   │   \u001b[0m\u001b[1m{\u001b[0m\n",
       "\u001b[2;32m│   │   │   \u001b[0m\u001b[32m'url'\u001b[0m: \u001b[32m'https://www.noaa.gov/weather-prediction-center'\u001b[0m,\n",
       "\u001b[2;32m│   │   │   \u001b[0m\u001b[32m'title'\u001b[0m: \u001b[32m'Weather Prediction Center \u001b[0m\u001b[32m(\u001b[0m\u001b[32mWPC\u001b[0m\u001b[32m)\u001b[0m\u001b[32m Home Page - NOAA'\u001b[0m,\n",
       "\u001b[2;32m│   │   │   \u001b[0m\u001b[32m'content'\u001b[0m: \u001b[32m\"Check out the HeatRisk page to understand potential heat impacts. headline2. Explore WPC's experimental Probabilistic Precipitation Portal. headline3\"\u001b[0m,\n",
       "\u001b[2;32m│   │   │   \u001b[0m\u001b[32m'score'\u001b[0m: \u001b[1;36m0.98567\u001b[0m,\n",
       "\u001b[2;32m│   │   │   \u001b[0m\u001b[32m'raw_content'\u001b[0m: \u001b[3;35mNone\u001b[0m\n",
       "\u001b[2;32m│   │   \u001b[0m\u001b[1m}\u001b[0m,\n",
       "\u001b[2;32m│   │   \u001b[0m\u001b[1m{\u001b[0m\n",
       "\u001b[2;32m│   │   │   \u001b[0m\u001b[32m'url'\u001b[0m: \u001b[32m'https://digital.weather.gov/'\u001b[0m,\n",
       "\u001b[2;32m│   │   │   \u001b[0m\u001b[32m'title'\u001b[0m: \u001b[32m'National Weather Service - Graphical Forecast'\u001b[0m,\n",
       "\u001b[2;32m│   │   │   \u001b[0m\u001b[32m'content'\u001b[0m: \u001b[32m'Missing: risks 25/08/2025'\u001b[0m,\n",
       "\u001b[2;32m│   │   │   \u001b[0m\u001b[32m'score'\u001b[0m: \u001b[1;36m0.98359\u001b[0m,\n",
       "\u001b[2;32m│   │   │   \u001b[0m\u001b[32m'raw_content'\u001b[0m: \u001b[3;35mNone\u001b[0m\n",
       "\u001b[2;32m│   │   \u001b[0m\u001b[1m}\u001b[0m,\n",
       "\u001b[2;32m│   │   \u001b[0m\u001b[1m{\u001b[0m\n",
       "\u001b[2;32m│   │   │   \u001b[0m\u001b[32m'url'\u001b[0m: \u001b[32m'https://www.weather.gov/media/directives/010_pdfs/pd01004001curr.pdf'\u001b[0m,\n",
       "\u001b[2;32m│   │   │   \u001b[0m\u001b[32m'title'\u001b[0m: \u001b[32m'\u001b[0m\u001b[32m[\u001b[0m\u001b[32mPDF\u001b[0m\u001b[32m]\u001b[0m\u001b[32m national weather service instruction 10-401'\u001b[0m,\n",
       "\u001b[2;32m│   │   │   \u001b[0m\u001b[32m'content'\u001b[0m: \u001b[32m'A. Page 7. 7. NWSI 10-401 AUGUST 25, 2025. WFO may also highlight particularly dangerous RFW conditions for the public, if this message is closely coordinated'\u001b[0m,\n",
       "\u001b[2;32m│   │   │   \u001b[0m\u001b[32m'score'\u001b[0m: \u001b[1;36m0.97693\u001b[0m,\n",
       "\u001b[2;32m│   │   │   \u001b[0m\u001b[32m'raw_content'\u001b[0m: \u001b[3;35mNone\u001b[0m\n",
       "\u001b[2;32m│   │   \u001b[0m\u001b[1m}\u001b[0m,\n",
       "\u001b[2;32m│   │   \u001b[0m\u001b[1m{\u001b[0m\n",
       "\u001b[2;32m│   │   │   \u001b[0m\u001b[32m'url'\u001b[0m: \u001b[32m'https://www.wpc.ncep.noaa.gov/index.shtml'\u001b[0m,\n",
       "\u001b[2;32m│   │   │   \u001b[0m\u001b[32m'title'\u001b[0m: \u001b[32m'Weather Prediction Center \u001b[0m\u001b[32m(\u001b[0m\u001b[32mWPC\u001b[0m\u001b[32m)\u001b[0m\u001b[32m Home Page'\u001b[0m,\n",
       "\u001b[2;32m│   │   │   \u001b[0m\u001b[32m'content'\u001b[0m: \u001b[32m'Short Range Forecast Discussion NWS Weather Prediction Center College Park MD 400 PM EDT Sat Aug 23 2025. Valid 00Z Sun Aug 24 2025 - 00Z Tue Aug 26 2025'\u001b[0m,\n",
       "\u001b[2;32m│   │   │   \u001b[0m\u001b[32m'score'\u001b[0m: \u001b[1;36m0.97356\u001b[0m,\n",
       "\u001b[2;32m│   │   │   \u001b[0m\u001b[32m'raw_content'\u001b[0m: \u001b[3;35mNone\u001b[0m\n",
       "\u001b[2;32m│   │   \u001b[0m\u001b[1m}\u001b[0m\n",
       "\u001b[2;32m│   \u001b[0m\u001b[1m]\u001b[0m\n",
       "\u001b[1m}\u001b[0m\n"
      ]
     },
     "metadata": {},
     "output_type": "display_data"
    },
    {
     "name": "stdout",
     "output_type": "stream",
     "text": [
      "\n",
      "---------- 📍 Step 3: InferenceStep ----------\n",
      "🤖 Model Response:\n",
      "\u001b[35mBased on the latest weather information, there are no immediate weather-related risks in your area that could disrupt network connectivity or system availability. The current weather in your location is clear with a temperature of 64.5°F (18.1°C). There are no significant wind speeds, humidity is low at 37%, and there's no precipitation expected. \n",
      "\n",
      "However, for the most accurate and up-to-date information, I would recommend checking the National Weather Service's website or app. They provide real-time updates and forecasts that can help you stay informed about any potential weather changes.\n",
      "\u001b[0m\n",
      "========== Query processing completed ========== \n",
      "\n"
     ]
    }
   ],
   "source": [
    "agent = Agent(\n",
    "    client, \n",
    "    model=model_id,\n",
    "    instructions=\"\"\"You are a helpful websearch assistant. When you are asked to search the latest you must use a tool. \n",
    "            Whenever a tool is called, be sure return the response in a friendly and helpful tone.\n",
    "            \"\"\" ,\n",
    "    tools=[\"builtin::websearch\"],\n",
    "    sampling_params=sampling_params\n",
    ")\n",
    "user_prompts = [\n",
    "    \"Are there any immediate weather-related risks in my area that could disrupt network connectivity or system availability?\",\n",
    "]\n",
    "for prompt in user_prompts:\n",
    "    print(\"\\n\"+\"=\"*50)\n",
    "    cprint(f\"Processing user query: {prompt}\", \"blue\")\n",
    "    print(\"=\"*50)\n",
    "    session_id = agent.create_session(\"web-session\")\n",
    "    response = agent.create_turn(\n",
    "        messages=[\n",
    "            {\n",
    "                \"role\": \"user\",\n",
    "                \"content\": prompt,\n",
    "            }\n",
    "        ],\n",
    "        session_id=session_id,\n",
    "        stream=stream\n",
    "    )\n",
    "    if stream:\n",
    "        for log in EventLogger().log(response):\n",
    "            log.print()\n",
    "    else:\n",
    "        step_printer(response.steps) # print the steps of an agent's response in a formatted way. "
   ]
  },
  {
   "cell_type": "markdown",
   "metadata": {},
   "source": [
    "### Output Analysis\n",
    "\n",
    "In this example, since the agent is unaware of the users location, it hallucinates one and generates an incorrect search query. This misidentification leads to inaccurate information about potential weather-related risks.\n",
    "\n",
    "This is where Prompt Chaining comes in. Prompt chaining allows the agent to:\n",
    "1. Maintain context across multiple queries\n",
    "2. Chain multiple tools together\n",
    "3. Use previous interactions to inform current decisions\n",
    "\n",
    "Let’s see how prompt chaining can improve the accuracy of the response."
   ]
  },
  {
   "cell_type": "markdown",
   "metadata": {},
   "source": [
    "## 3. Prompt chaining with websearch tool and client tool\n",
    "\n",
    "In this section, we demonstrate a more sophisticated use case that combines the use of two tools: location detection and web search.\n",
    "\n",
    "1. **Automatic Location Detection**: Use the `get_location` client tool to automatically determine the user's current location.\n",
    "2. **Contextual Search**: Leverage the detected location to formulate the correct websearch query.\n",
    "\n",
    "For example, when a user asks \"Are there any weather-related risks in my area that could disrupt network connectivity or system availability?\", the agent will:\n",
    "- First detect the user's current location using `get_location`.\n",
    "- Then use that location to search for nearby weather-related risks.\n",
    "- Finally, present a comprehensive response.\n",
    "\n",
    "This demonstrates how the builtin websearch tool and custom client tools can work together to provide intelligent, context-aware responses without requiring explicit location input from the user."
   ]
  },
  {
   "cell_type": "code",
   "execution_count": 6,
   "metadata": {},
   "outputs": [
    {
     "name": "stderr",
     "output_type": "stream",
     "text": [
      "INFO:httpx:HTTP Request: POST http://llamastack:8321/v1/agents \"HTTP/1.1 200 OK\"\n",
      "INFO:httpx:HTTP Request: GET http://llamastack:8321/v1/tools?toolgroup_id=builtin%3A%3Awebsearch \"HTTP/1.1 200 OK\"\n",
      "INFO:httpx:HTTP Request: POST http://llamastack:8321/v1/agents/c4a3b3df-d11c-4c0f-bb67-b7d537d47389/session \"HTTP/1.1 200 OK\"\n",
      "INFO:httpx:HTTP Request: POST http://llamastack:8321/v1/agents/c4a3b3df-d11c-4c0f-bb67-b7d537d47389/session/322df2d5-b185-4d2d-a67b-9d47e6910efe/turn \"HTTP/1.1 200 OK\"\n"
     ]
    },
    {
     "name": "stdout",
     "output_type": "stream",
     "text": [
      "\n",
      "==================================================\n",
      "\u001b[34mProcessing user query: Where am I?\u001b[0m\n",
      "==================================================\n"
     ]
    },
    {
     "name": "stderr",
     "output_type": "stream",
     "text": [
      "INFO:geocoder.base:Requested http://ipinfo.io/json\n",
      "INFO:httpx:HTTP Request: POST http://llamastack:8321/v1/agents/c4a3b3df-d11c-4c0f-bb67-b7d537d47389/session/322df2d5-b185-4d2d-a67b-9d47e6910efe/turn/9be0d025-527e-418e-b8bc-e3d641a907e9/resume \"HTTP/1.1 200 OK\"\n"
     ]
    },
    {
     "name": "stdout",
     "output_type": "stream",
     "text": [
      "\n",
      "---------- 📍 Step 1: InferenceStep ----------\n",
      "🛠️ Tool call Generated:\n",
      "\u001b[35mTool call: get_location, Arguments: {'query': 'current location'}\u001b[0m\n",
      "\n",
      "---------- 📍 Step 2: ToolExecutionStep ----------\n",
      "🔧 Executing tool...\n"
     ]
    },
    {
     "data": {
      "text/html": [
       "<pre style=\"white-space:pre;overflow-x:auto;line-height:normal;font-family:Menlo,'DejaVu Sans Mono',consolas,'Courier New',monospace\"><span style=\"color: #008000; text-decoration-color: #008000\">'Your current location is: Frankfurt am Main, Hesse, DE'</span>\n",
       "</pre>\n"
      ],
      "text/plain": [
       "\u001b[32m'Your current location is: Frankfurt am Main, Hesse, DE'\u001b[0m\n"
      ]
     },
     "metadata": {},
     "output_type": "display_data"
    },
    {
     "name": "stderr",
     "output_type": "stream",
     "text": [
      "INFO:httpx:HTTP Request: POST http://llamastack:8321/v1/agents/c4a3b3df-d11c-4c0f-bb67-b7d537d47389/session/322df2d5-b185-4d2d-a67b-9d47e6910efe/turn \"HTTP/1.1 200 OK\"\n"
     ]
    },
    {
     "name": "stdout",
     "output_type": "stream",
     "text": [
      "\n",
      "---------- 📍 Step 3: InferenceStep ----------\n",
      "🤖 Model Response:\n",
      "\u001b[35mYou are currently in Frankfurt am Main, Hesse, Germany.\n",
      "\u001b[0m\n",
      "========== Query processing completed ========== \n",
      "\n",
      "\n",
      "==================================================\n",
      "\u001b[34mProcessing user query: Are there any immediate weather-related risks in my area that could disrupt network connectivity or system availability?\u001b[0m\n",
      "==================================================\n",
      "\n",
      "---------- 📍 Step 1: InferenceStep ----------\n",
      "🛠️ Tool call Generated:\n",
      "\u001b[35mTool call: brave_search, Arguments: {'query': 'Frankfurt am Main immediate weather risks'}\u001b[0m\n",
      "\n",
      "---------- 📍 Step 2: ToolExecutionStep ----------\n",
      "🔧 Executing tool...\n"
     ]
    },
    {
     "data": {
      "text/html": [
       "<pre style=\"white-space:pre;overflow-x:auto;line-height:normal;font-family:Menlo,'DejaVu Sans Mono',consolas,'Courier New',monospace\"><span style=\"font-weight: bold\">{</span>\n",
       "<span style=\"color: #7fbf7f; text-decoration-color: #7fbf7f\">│   </span><span style=\"color: #008000; text-decoration-color: #008000\">'query'</span>: <span style=\"color: #008000; text-decoration-color: #008000\">'Frankfurt am Main immediate weather risks'</span>,\n",
       "<span style=\"color: #7fbf7f; text-decoration-color: #7fbf7f\">│   </span><span style=\"color: #008000; text-decoration-color: #008000\">'top_k'</span>: <span style=\"font-weight: bold\">[</span>\n",
       "<span style=\"color: #7fbf7f; text-decoration-color: #7fbf7f\">│   │   </span><span style=\"font-weight: bold\">{</span>\n",
       "<span style=\"color: #7fbf7f; text-decoration-color: #7fbf7f\">│   │   │   </span><span style=\"color: #008000; text-decoration-color: #008000\">'title'</span>: <span style=\"color: #008000; text-decoration-color: #008000\">'Weather in Frankfurt am Main, Germany'</span>,\n",
       "<span style=\"color: #7fbf7f; text-decoration-color: #7fbf7f\">│   │   │   </span><span style=\"color: #008000; text-decoration-color: #008000\">'url'</span>: <span style=\"color: #008000; text-decoration-color: #008000\">'https://www.weatherapi.com/'</span>,\n",
       "<span style=\"color: #7fbf7f; text-decoration-color: #7fbf7f\">│   │   │   </span><span style=\"color: #008000; text-decoration-color: #008000\">'content'</span>: <span style=\"color: #008000; text-decoration-color: #008000\">\"{'location': {'name': 'Frankfurt Am Main', 'region': 'Hessen', 'country': 'Germany', 'lat': 50.1167, 'lon': 8.6833, 'tz_id': 'Europe/Berlin', 'localtime_epoch': 1756084817, 'localtime': '2025-08-25 03:20'}, 'current': {'last_updated_epoch': 1756084500, 'last_updated': '2025-08-25 03:15', 'temp_c': 10.0, 'temp_f': 50.0, 'is_day': 0, 'condition': {'text': 'Clear', 'icon': '//cdn.weatherapi.com/weather/64x64/night/113.png', 'code': 1000}, 'wind_mph': 2.5, 'wind_kph': 4.0, 'wind_degree': 27, 'wind_dir': 'NNE', 'pressure_mb': 1020.0, 'pressure_in': 30.12, 'precip_mm': 0.0, 'precip_in': 0.0, 'humidity': 76, 'cloud': 0, 'feelslike_c': 10.1, 'feelslike_f': 50.2, 'windchill_c': 11.9, 'windchill_f': 53.3, 'heatindex_c': 11.6, 'heatindex_f': 52.8, 'dewpoint_c': 3.8, 'dewpoint_f': 38.9, 'vis_km': 10.0, 'vis_miles': 6.0, 'uv': 0.0, 'gust_mph': 4.9, 'gust_kph': 7.8}}\"</span>,\n",
       "<span style=\"color: #7fbf7f; text-decoration-color: #7fbf7f\">│   │   │   </span><span style=\"color: #008000; text-decoration-color: #008000\">'score'</span>: <span style=\"color: #008080; text-decoration-color: #008080; font-weight: bold\">0.7645227</span>,\n",
       "<span style=\"color: #7fbf7f; text-decoration-color: #7fbf7f\">│   │   │   </span><span style=\"color: #008000; text-decoration-color: #008000\">'raw_content'</span>: <span style=\"color: #800080; text-decoration-color: #800080; font-style: italic\">None</span>\n",
       "<span style=\"color: #7fbf7f; text-decoration-color: #7fbf7f\">│   │   </span><span style=\"font-weight: bold\">}</span>,\n",
       "<span style=\"color: #7fbf7f; text-decoration-color: #7fbf7f\">│   │   </span><span style=\"font-weight: bold\">{</span>\n",
       "<span style=\"color: #7fbf7f; text-decoration-color: #7fbf7f\">│   │   │   </span><span style=\"color: #008000; text-decoration-color: #008000\">'url'</span>: <span style=\"color: #008000; text-decoration-color: #008000\">'https://www.weathertab.com/en/d/e/08/federal-republic-of-germany/60596-frankfurt-am-main/'</span>,\n",
       "<span style=\"color: #7fbf7f; text-decoration-color: #7fbf7f\">│   │   │   </span><span style=\"color: #008000; text-decoration-color: #008000\">'title'</span>: <span style=\"color: #008000; text-decoration-color: #008000\">'August 2025 Daily Weather Forecast for 60596 (Frankfurt am Main)'</span>,\n",
       "<span style=\"color: #7fbf7f; text-decoration-color: #7fbf7f\">│   │   │   </span><span style=\"color: #008000; text-decoration-color: #008000\">'content'</span>: <span style=\"color: #008000; text-decoration-color: #008000\">'60596 (Frankfurt am Main), Daily Weather Forecast for August 2025 ; 8. Fri. 60%. 70 to 80 °F 51 to 61 °F 18 to 28 °C 8 to 18 °C · Sunrise 6:04AM. Sunset 8:56PM.'</span>,\n",
       "<span style=\"color: #7fbf7f; text-decoration-color: #7fbf7f\">│   │   │   </span><span style=\"color: #008000; text-decoration-color: #008000\">'score'</span>: <span style=\"color: #008080; text-decoration-color: #008080; font-weight: bold\">0.7500592</span>,\n",
       "<span style=\"color: #7fbf7f; text-decoration-color: #7fbf7f\">│   │   │   </span><span style=\"color: #008000; text-decoration-color: #008000\">'raw_content'</span>: <span style=\"color: #800080; text-decoration-color: #800080; font-style: italic\">None</span>\n",
       "<span style=\"color: #7fbf7f; text-decoration-color: #7fbf7f\">│   │   </span><span style=\"font-weight: bold\">}</span>,\n",
       "<span style=\"color: #7fbf7f; text-decoration-color: #7fbf7f\">│   │   </span><span style=\"font-weight: bold\">{</span>\n",
       "<span style=\"color: #7fbf7f; text-decoration-color: #7fbf7f\">│   │   │   </span><span style=\"color: #008000; text-decoration-color: #008000\">'url'</span>: <span style=\"color: #008000; text-decoration-color: #008000\">'https://www.weather2travel.com/germany/frankfurt/august/'</span>,\n",
       "<span style=\"color: #7fbf7f; text-decoration-color: #7fbf7f\">│   │   │   </span><span style=\"color: #008000; text-decoration-color: #008000\">'title'</span>: <span style=\"color: #008000; text-decoration-color: #008000\">'Frankfurt weather in August 2025 | Germany: How hot?'</span>,\n",
       "<span style=\"color: #7fbf7f; text-decoration-color: #7fbf7f\">│   │   │   </span><span style=\"color: #008000; text-decoration-color: #008000\">'content'</span>: <span style=\"color: #008000; text-decoration-color: #008000\">\"# Frankfurt weather in August 2025 Expect  **daytime maximum temperatures of 23°C** in **Frankfurt, Germany** in **August** based on long-term weather averages. The August weather guide for Germany (Frankfurt) shows long term weather averages processed from data supplied by **CRU (University of East Anglia)**, the **Met Office** &amp; the **Netherlands Meteorological Institute**. There are normally **7 hours** of bright sunshine each day in **Frankfurt** in **August** - that's **46% of daylight hours**. There are usually **14 days** with some rain in **Frankfurt** in **August** and the average monthly rainfall is **68mm**. ## Frankfurt August sunrise &amp; sunset times Browse the sunrise and sunset times for Frankfurt in August 2025. * Summer holidays * Holiday offers * Airport parking deals More holidays\"</span>,\n",
       "<span style=\"color: #7fbf7f; text-decoration-color: #7fbf7f\">│   │   │   </span><span style=\"color: #008000; text-decoration-color: #008000\">'score'</span>: <span style=\"color: #008080; text-decoration-color: #008080; font-weight: bold\">0.6633424</span>,\n",
       "<span style=\"color: #7fbf7f; text-decoration-color: #7fbf7f\">│   │   │   </span><span style=\"color: #008000; text-decoration-color: #008000\">'raw_content'</span>: <span style=\"color: #800080; text-decoration-color: #800080; font-style: italic\">None</span>\n",
       "<span style=\"color: #7fbf7f; text-decoration-color: #7fbf7f\">│   │   </span><span style=\"font-weight: bold\">}</span>,\n",
       "<span style=\"color: #7fbf7f; text-decoration-color: #7fbf7f\">│   │   </span><span style=\"font-weight: bold\">{</span>\n",
       "<span style=\"color: #7fbf7f; text-decoration-color: #7fbf7f\">│   │   │   </span><span style=\"color: #008000; text-decoration-color: #008000\">'url'</span>: <span style=\"color: #008000; text-decoration-color: #008000\">'https://world-weather.info/forecast/germany/frankfurt_am_main/august-2025/'</span>,\n",
       "<span style=\"color: #7fbf7f; text-decoration-color: #7fbf7f\">│   │   │   </span><span style=\"color: #008000; text-decoration-color: #008000\">'title'</span>: <span style=\"color: #008000; text-decoration-color: #008000\">'Weather in Frankfurt am Main in August 2025 (Hesse)'</span>,\n",
       "<span style=\"color: #7fbf7f; text-decoration-color: #7fbf7f\">│   │   │   </span><span style=\"color: #008000; text-decoration-color: #008000\">'content'</span>: <span style=\"color: #008000; text-decoration-color: #008000\">\"Frankfurt am Main Weather Forecast for August 2025 is based on long term prognosis and previous years' statistical data.\"</span>,\n",
       "<span style=\"color: #7fbf7f; text-decoration-color: #7fbf7f\">│   │   │   </span><span style=\"color: #008000; text-decoration-color: #008000\">'score'</span>: <span style=\"color: #008080; text-decoration-color: #008080; font-weight: bold\">0.61196244</span>,\n",
       "<span style=\"color: #7fbf7f; text-decoration-color: #7fbf7f\">│   │   │   </span><span style=\"color: #008000; text-decoration-color: #008000\">'raw_content'</span>: <span style=\"color: #800080; text-decoration-color: #800080; font-style: italic\">None</span>\n",
       "<span style=\"color: #7fbf7f; text-decoration-color: #7fbf7f\">│   │   </span><span style=\"font-weight: bold\">}</span>,\n",
       "<span style=\"color: #7fbf7f; text-decoration-color: #7fbf7f\">│   │   </span><span style=\"font-weight: bold\">{</span>\n",
       "<span style=\"color: #7fbf7f; text-decoration-color: #7fbf7f\">│   │   │   </span><span style=\"color: #008000; text-decoration-color: #008000\">'url'</span>: <span style=\"color: #008000; text-decoration-color: #008000\">'https://en.climate-data.org/europe/germany/hesse/frankfurt-am-main-447/t/august-8/'</span>,\n",
       "<span style=\"color: #7fbf7f; text-decoration-color: #7fbf7f\">│   │   │   </span><span style=\"color: #008000; text-decoration-color: #008000\">'title'</span>: <span style=\"color: #008000; text-decoration-color: #008000\">'Weather Frankfurt am Main in August 2025 - Climate-Data.org'</span>,\n",
       "<span style=\"color: #7fbf7f; text-decoration-color: #7fbf7f\">│   │   │   </span><span style=\"color: #008000; text-decoration-color: #008000\">'content'</span>: <span style=\"color: #008000; text-decoration-color: #008000\">'Weather Frankfurt am Main in August 2025: Temperature &amp; Climate *   Overview: Frankfurt am Main Weather and Climate in August The average warmest day in Frankfurt am Main during August is 02.08, with a high of 26.5°C | 79.8°F. #### What day in August has the highest temperature in Frankfurt am Main? In August, the warmest day in Frankfurt am Main is 02.08, with a temperature of 26.5°C | 79.8°F. #### During August, which 10-day stretch has the highest temperatures in Frankfurt am Main? #### During August, which 10-day stretch has the lowest temperatures in Frankfurt am Main? #### What day in August has the highest humidity in Frankfurt am Main? #### What day in August has the lowest humidity in Frankfurt am Main?'</span>,\n",
       "<span style=\"color: #7fbf7f; text-decoration-color: #7fbf7f\">│   │   │   </span><span style=\"color: #008000; text-decoration-color: #008000\">'score'</span>: <span style=\"color: #008080; text-decoration-color: #008080; font-weight: bold\">0.5568099</span>,\n",
       "<span style=\"color: #7fbf7f; text-decoration-color: #7fbf7f\">│   │   │   </span><span style=\"color: #008000; text-decoration-color: #008000\">'raw_content'</span>: <span style=\"color: #800080; text-decoration-color: #800080; font-style: italic\">None</span>\n",
       "<span style=\"color: #7fbf7f; text-decoration-color: #7fbf7f\">│   │   </span><span style=\"font-weight: bold\">}</span>\n",
       "<span style=\"color: #7fbf7f; text-decoration-color: #7fbf7f\">│   </span><span style=\"font-weight: bold\">]</span>\n",
       "<span style=\"font-weight: bold\">}</span>\n",
       "</pre>\n"
      ],
      "text/plain": [
       "\u001b[1m{\u001b[0m\n",
       "\u001b[2;32m│   \u001b[0m\u001b[32m'query'\u001b[0m: \u001b[32m'Frankfurt am Main immediate weather risks'\u001b[0m,\n",
       "\u001b[2;32m│   \u001b[0m\u001b[32m'top_k'\u001b[0m: \u001b[1m[\u001b[0m\n",
       "\u001b[2;32m│   │   \u001b[0m\u001b[1m{\u001b[0m\n",
       "\u001b[2;32m│   │   │   \u001b[0m\u001b[32m'title'\u001b[0m: \u001b[32m'Weather in Frankfurt am Main, Germany'\u001b[0m,\n",
       "\u001b[2;32m│   │   │   \u001b[0m\u001b[32m'url'\u001b[0m: \u001b[32m'https://www.weatherapi.com/'\u001b[0m,\n",
       "\u001b[2;32m│   │   │   \u001b[0m\u001b[32m'content'\u001b[0m: \u001b[32m\"\u001b[0m\u001b[32m{\u001b[0m\u001b[32m'location': \u001b[0m\u001b[32m{\u001b[0m\u001b[32m'name': 'Frankfurt Am Main', 'region': 'Hessen', 'country': 'Germany', 'lat': 50.1167, 'lon': 8.6833, 'tz_id': 'Europe/Berlin', 'localtime_epoch': 1756084817, 'localtime': '2025-08-25 03:20'\u001b[0m\u001b[32m}\u001b[0m\u001b[32m, 'current': \u001b[0m\u001b[32m{\u001b[0m\u001b[32m'last_updated_epoch': 1756084500, 'last_updated': '2025-08-25 03:15', 'temp_c': 10.0, 'temp_f': 50.0, 'is_day': 0, 'condition': \u001b[0m\u001b[32m{\u001b[0m\u001b[32m'text': 'Clear', 'icon': '//cdn.weatherapi.com/weather/64x64/night/113.png', 'code': 1000\u001b[0m\u001b[32m}\u001b[0m\u001b[32m, 'wind_mph': 2.5, 'wind_kph': 4.0, 'wind_degree': 27, 'wind_dir': 'NNE', 'pressure_mb': 1020.0, 'pressure_in': 30.12, 'precip_mm': 0.0, 'precip_in': 0.0, 'humidity': 76, 'cloud': 0, 'feelslike_c': 10.1, 'feelslike_f': 50.2, 'windchill_c': 11.9, 'windchill_f': 53.3, 'heatindex_c': 11.6, 'heatindex_f': 52.8, 'dewpoint_c': 3.8, 'dewpoint_f': 38.9, 'vis_km': 10.0, 'vis_miles': 6.0, 'uv': 0.0, 'gust_mph': 4.9, 'gust_kph': 7.8\u001b[0m\u001b[32m}\u001b[0m\u001b[32m}\u001b[0m\u001b[32m\"\u001b[0m,\n",
       "\u001b[2;32m│   │   │   \u001b[0m\u001b[32m'score'\u001b[0m: \u001b[1;36m0.7645227\u001b[0m,\n",
       "\u001b[2;32m│   │   │   \u001b[0m\u001b[32m'raw_content'\u001b[0m: \u001b[3;35mNone\u001b[0m\n",
       "\u001b[2;32m│   │   \u001b[0m\u001b[1m}\u001b[0m,\n",
       "\u001b[2;32m│   │   \u001b[0m\u001b[1m{\u001b[0m\n",
       "\u001b[2;32m│   │   │   \u001b[0m\u001b[32m'url'\u001b[0m: \u001b[32m'https://www.weathertab.com/en/d/e/08/federal-republic-of-germany/60596-frankfurt-am-main/'\u001b[0m,\n",
       "\u001b[2;32m│   │   │   \u001b[0m\u001b[32m'title'\u001b[0m: \u001b[32m'August 2025 Daily Weather Forecast for 60596 \u001b[0m\u001b[32m(\u001b[0m\u001b[32mFrankfurt am Main\u001b[0m\u001b[32m)\u001b[0m\u001b[32m'\u001b[0m,\n",
       "\u001b[2;32m│   │   │   \u001b[0m\u001b[32m'content'\u001b[0m: \u001b[32m'60596 \u001b[0m\u001b[32m(\u001b[0m\u001b[32mFrankfurt am Main\u001b[0m\u001b[32m)\u001b[0m\u001b[32m, Daily Weather Forecast for August 2025 ; 8. Fri. 60%. 70 to 80 °F 51 to 61 °F 18 to 28 °C 8 to 18 °C · Sunrise 6:04AM. Sunset 8:56PM.'\u001b[0m,\n",
       "\u001b[2;32m│   │   │   \u001b[0m\u001b[32m'score'\u001b[0m: \u001b[1;36m0.7500592\u001b[0m,\n",
       "\u001b[2;32m│   │   │   \u001b[0m\u001b[32m'raw_content'\u001b[0m: \u001b[3;35mNone\u001b[0m\n",
       "\u001b[2;32m│   │   \u001b[0m\u001b[1m}\u001b[0m,\n",
       "\u001b[2;32m│   │   \u001b[0m\u001b[1m{\u001b[0m\n",
       "\u001b[2;32m│   │   │   \u001b[0m\u001b[32m'url'\u001b[0m: \u001b[32m'https://www.weather2travel.com/germany/frankfurt/august/'\u001b[0m,\n",
       "\u001b[2;32m│   │   │   \u001b[0m\u001b[32m'title'\u001b[0m: \u001b[32m'Frankfurt weather in August 2025 | Germany: How hot?'\u001b[0m,\n",
       "\u001b[2;32m│   │   │   \u001b[0m\u001b[32m'content'\u001b[0m: \u001b[32m\"# Frankfurt weather in August 2025 Expect  **daytime maximum temperatures of 23°C** in **Frankfurt, Germany** in **August** based on long-term weather averages. The August weather guide for Germany \u001b[0m\u001b[32m(\u001b[0m\u001b[32mFrankfurt\u001b[0m\u001b[32m)\u001b[0m\u001b[32m shows long term weather averages processed from data supplied by **CRU \u001b[0m\u001b[32m(\u001b[0m\u001b[32mUniversity of East Anglia\u001b[0m\u001b[32m)\u001b[0m\u001b[32m**, the **Met Office** & the **Netherlands Meteorological Institute**. There are normally **7 hours** of bright sunshine each day in **Frankfurt** in **August** - that's **46% of daylight hours**. There are usually **14 days** with some rain in **Frankfurt** in **August** and the average monthly rainfall is **68mm**. ## Frankfurt August sunrise & sunset times Browse the sunrise and sunset times for Frankfurt in August 2025. * Summer holidays * Holiday offers * Airport parking deals More holidays\"\u001b[0m,\n",
       "\u001b[2;32m│   │   │   \u001b[0m\u001b[32m'score'\u001b[0m: \u001b[1;36m0.6633424\u001b[0m,\n",
       "\u001b[2;32m│   │   │   \u001b[0m\u001b[32m'raw_content'\u001b[0m: \u001b[3;35mNone\u001b[0m\n",
       "\u001b[2;32m│   │   \u001b[0m\u001b[1m}\u001b[0m,\n",
       "\u001b[2;32m│   │   \u001b[0m\u001b[1m{\u001b[0m\n",
       "\u001b[2;32m│   │   │   \u001b[0m\u001b[32m'url'\u001b[0m: \u001b[32m'https://world-weather.info/forecast/germany/frankfurt_am_main/august-2025/'\u001b[0m,\n",
       "\u001b[2;32m│   │   │   \u001b[0m\u001b[32m'title'\u001b[0m: \u001b[32m'Weather in Frankfurt am Main in August 2025 \u001b[0m\u001b[32m(\u001b[0m\u001b[32mHesse\u001b[0m\u001b[32m)\u001b[0m\u001b[32m'\u001b[0m,\n",
       "\u001b[2;32m│   │   │   \u001b[0m\u001b[32m'content'\u001b[0m: \u001b[32m\"Frankfurt am Main Weather Forecast for August 2025 is based on long term prognosis and previous years' statistical data.\"\u001b[0m,\n",
       "\u001b[2;32m│   │   │   \u001b[0m\u001b[32m'score'\u001b[0m: \u001b[1;36m0.61196244\u001b[0m,\n",
       "\u001b[2;32m│   │   │   \u001b[0m\u001b[32m'raw_content'\u001b[0m: \u001b[3;35mNone\u001b[0m\n",
       "\u001b[2;32m│   │   \u001b[0m\u001b[1m}\u001b[0m,\n",
       "\u001b[2;32m│   │   \u001b[0m\u001b[1m{\u001b[0m\n",
       "\u001b[2;32m│   │   │   \u001b[0m\u001b[32m'url'\u001b[0m: \u001b[32m'https://en.climate-data.org/europe/germany/hesse/frankfurt-am-main-447/t/august-8/'\u001b[0m,\n",
       "\u001b[2;32m│   │   │   \u001b[0m\u001b[32m'title'\u001b[0m: \u001b[32m'Weather Frankfurt am Main in August 2025 - Climate-Data.org'\u001b[0m,\n",
       "\u001b[2;32m│   │   │   \u001b[0m\u001b[32m'content'\u001b[0m: \u001b[32m'Weather Frankfurt am Main in August 2025: Temperature & Climate *   Overview: Frankfurt am Main Weather and Climate in August The average warmest day in Frankfurt am Main during August is 02.08, with a high of 26.5°C | 79.8°F. #### What day in August has the highest temperature in Frankfurt am Main? In August, the warmest day in Frankfurt am Main is 02.08, with a temperature of 26.5°C | 79.8°F. #### During August, which 10-day stretch has the highest temperatures in Frankfurt am Main? #### During August, which 10-day stretch has the lowest temperatures in Frankfurt am Main? #### What day in August has the highest humidity in Frankfurt am Main? #### What day in August has the lowest humidity in Frankfurt am Main?'\u001b[0m,\n",
       "\u001b[2;32m│   │   │   \u001b[0m\u001b[32m'score'\u001b[0m: \u001b[1;36m0.5568099\u001b[0m,\n",
       "\u001b[2;32m│   │   │   \u001b[0m\u001b[32m'raw_content'\u001b[0m: \u001b[3;35mNone\u001b[0m\n",
       "\u001b[2;32m│   │   \u001b[0m\u001b[1m}\u001b[0m\n",
       "\u001b[2;32m│   \u001b[0m\u001b[1m]\u001b[0m\n",
       "\u001b[1m}\u001b[0m\n"
      ]
     },
     "metadata": {},
     "output_type": "display_data"
    },
    {
     "name": "stdout",
     "output_type": "stream",
     "text": [
      "\n",
      "---------- 📍 Step 3: InferenceStep ----------\n",
      "🤖 Model Response:\n",
      "\u001b[35mAccording to the latest weather forecasts, there are no immediate weather-related risks in Frankfurt am Main that could disrupt network connectivity or system availability. The weather is currently clear with a temperature of 10.0°C (50.0°F). There are no significant weather warnings or alerts for the area.\n",
      "\u001b[0m\n",
      "========== Query processing completed ========== \n",
      "\n"
     ]
    }
   ],
   "source": [
    "agent = Agent(\n",
    "    client, \n",
    "    model=model_id,\n",
    "    instructions=\"\"\"You are a helpful assistant. \n",
    "    When a user asks about their location, you MUST use the get_location tool. When you are asked to search the latest news, you MUST use the websearch tool.\n",
    "    \"\"\" ,\n",
    "    tools=[get_location, \"builtin::websearch\"],\n",
    "    sampling_params=sampling_params\n",
    ")\n",
    "user_prompts = [\n",
    "    \"Where am I?\",\n",
    "    \"Are there any immediate weather-related risks in my area that could disrupt network connectivity or system availability?\"\n",
    "]\n",
    "session_id = agent.create_session(\"prompt-chaining-session\")  # for prompt chaining, queries must share the same session_id.\n",
    "for prompt in user_prompts:\n",
    "    print(\"\\n\"+\"=\"*50)\n",
    "    cprint(f\"Processing user query: {prompt}\", \"blue\")\n",
    "    print(\"=\"*50)\n",
    "    response = agent.create_turn(\n",
    "        messages=[\n",
    "            {\n",
    "                \"role\": \"user\",\n",
    "                \"content\": prompt,\n",
    "            }\n",
    "        ],\n",
    "        session_id=session_id,\n",
    "        stream=stream\n",
    "    )\n",
    "\n",
    "    if stream:\n",
    "        for log in EventLogger().log(response):\n",
    "            log.print()\n",
    "    else:\n",
    "        step_printer(response.steps) # print the steps of an agent's response in a formatted way. "
   ]
  },
  {
   "cell_type": "markdown",
   "metadata": {},
   "source": [
    "### ReAct Agent with websearch tool and client tool\n",
    "\n",
    "This section demonstrates the ReAct (Reasoning and Acting) framework in action.\n",
    "\n",
    "Here is a walkthrough of how the ReAct agent will tackle this same \"weather near me\" problem:\n",
    "\n",
    "When asked \"Are there any weather-related risks in my area that could disrupt network connectivity or system availability?\", the agent will:\n",
    "\n",
    "1. **Reason** that it needs to get location information first.\n",
    "2. **Act** by calling the `get_location` client tool.\n",
    "3. **Observe** the location result.\n",
    "4. **Reason** that it now needs to search for weather in that location.\n",
    "5. **Act** by calling the `websearch` tool with observed location.\n",
    "6. **Observe** and processes the search results into a final answer. \n",
    "\n",
    "Unlike prompt chaining which follows fixed steps, ReAct dynamically breaks down tasks and adapts its approach based on the results of each step. This makes it more flexible and capable of handling complex, real-world queries effectively."
   ]
  },
  {
   "cell_type": "code",
   "execution_count": 7,
   "metadata": {},
   "outputs": [
    {
     "name": "stderr",
     "output_type": "stream",
     "text": [
      "INFO:httpx:HTTP Request: GET http://llamastack:8321/v1/tools?toolgroup_id=builtin%3A%3Awebsearch \"HTTP/1.1 200 OK\"\n",
      "INFO:httpx:HTTP Request: POST http://llamastack:8321/v1/agents \"HTTP/1.1 200 OK\"\n",
      "INFO:httpx:HTTP Request: GET http://llamastack:8321/v1/tools?toolgroup_id=builtin%3A%3Awebsearch \"HTTP/1.1 200 OK\"\n",
      "INFO:httpx:HTTP Request: POST http://llamastack:8321/v1/agents/3598fb2a-bc17-4b0e-9023-e7e1cc337494/session \"HTTP/1.1 200 OK\"\n",
      "INFO:httpx:HTTP Request: POST http://llamastack:8321/v1/agents/3598fb2a-bc17-4b0e-9023-e7e1cc337494/session/3579ef8f-dc2c-426e-9105-74b049b77e04/turn \"HTTP/1.1 200 OK\"\n"
     ]
    },
    {
     "name": "stdout",
     "output_type": "stream",
     "text": [
      "\n",
      "==================================================\n",
      "\u001b[34mProcessing user query: Are there any immediate weather-related risks in my area that could disrupt network connectivity or system availability?\u001b[0m\n",
      "==================================================\n"
     ]
    },
    {
     "name": "stderr",
     "output_type": "stream",
     "text": [
      "INFO:geocoder.base:Requested http://ipinfo.io/json\n",
      "INFO:httpx:HTTP Request: POST http://llamastack:8321/v1/agents/3598fb2a-bc17-4b0e-9023-e7e1cc337494/session/3579ef8f-dc2c-426e-9105-74b049b77e04/turn/71c140b0-61d0-44cb-a3a2-d87ad01a043a/resume \"HTTP/1.1 200 OK\"\n",
      "INFO:httpx:HTTP Request: POST http://llamastack:8321/v1/tool-runtime/invoke \"HTTP/1.1 200 OK\"\n",
      "INFO:httpx:HTTP Request: POST http://llamastack:8321/v1/agents/3598fb2a-bc17-4b0e-9023-e7e1cc337494/session/3579ef8f-dc2c-426e-9105-74b049b77e04/turn/71c140b0-61d0-44cb-a3a2-d87ad01a043a/resume \"HTTP/1.1 200 OK\"\n"
     ]
    },
    {
     "name": "stdout",
     "output_type": "stream",
     "text": [
      "\n",
      "---------- 📍 Step 1: InferenceStep ----------\n",
      "🤖 Model Response:\n",
      "\u001b[35m{\n",
      "    \"thought\": \"I need to get the user's current location and then check for any weather-related risks in that area. I will use the `get_location` tool to find the user's location and then the `web_search` tool to check for any weather-related risks.\",\n",
      "    \"action\": {\n",
      "        \"tool_name\": \"get_location\",\n",
      "        \"tool_params\": [{\"name\": \"query\", \"value\": \"user's current location\"}]\n",
      "    },\n",
      "    \"answer\": null\n",
      "}\n",
      "\u001b[0m\n",
      "\n",
      "---------- 📍 Step 2: ToolExecutionStep ----------\n",
      "🔧 Executing tool...\n"
     ]
    },
    {
     "data": {
      "text/html": [
       "<pre style=\"white-space:pre;overflow-x:auto;line-height:normal;font-family:Menlo,'DejaVu Sans Mono',consolas,'Courier New',monospace\"><span style=\"color: #008000; text-decoration-color: #008000\">'Your current location is: Frankfurt am Main, Hesse, DE'</span>\n",
       "</pre>\n"
      ],
      "text/plain": [
       "\u001b[32m'Your current location is: Frankfurt am Main, Hesse, DE'\u001b[0m\n"
      ]
     },
     "metadata": {},
     "output_type": "display_data"
    },
    {
     "name": "stdout",
     "output_type": "stream",
     "text": [
      "\n",
      "---------- 📍 Step 3: InferenceStep ----------\n",
      "🤖 Model Response:\n",
      "\u001b[35m{\n",
      "    \"thought\": \"Now that I have the user's location, I will use the `web_search` tool to check for any weather-related risks in Frankfurt am Main, Hesse, DE.\",\n",
      "    \"action\": {\n",
      "        \"tool_name\": \"web_search\",\n",
      "        \"tool_params\": [{\"name\": \"query\", \"value\": \"weather-related risks in Frankfurt am Main, Hesse, DE\"}]\n",
      "    },\n",
      "    \"answer\": null\n",
      "}\n",
      "\u001b[0m\n",
      "\n",
      "---------- 📍 Step 4: ToolExecutionStep ----------\n",
      "🔧 Executing tool...\n"
     ]
    },
    {
     "data": {
      "text/html": [
       "<pre style=\"white-space:pre;overflow-x:auto;line-height:normal;font-family:Menlo,'DejaVu Sans Mono',consolas,'Courier New',monospace\"><span style=\"font-weight: bold\">{</span>\n",
       "<span style=\"color: #7fbf7f; text-decoration-color: #7fbf7f\">│   </span><span style=\"color: #008000; text-decoration-color: #008000\">'query'</span>: <span style=\"color: #008000; text-decoration-color: #008000\">'weather-related risks in Frankfurt am Main, Hesse, DE'</span>,\n",
       "<span style=\"color: #7fbf7f; text-decoration-color: #7fbf7f\">│   </span><span style=\"color: #008000; text-decoration-color: #008000\">'top_k'</span>: <span style=\"font-weight: bold\">[</span>\n",
       "<span style=\"color: #7fbf7f; text-decoration-color: #7fbf7f\">│   │   </span><span style=\"font-weight: bold\">{</span>\n",
       "<span style=\"color: #7fbf7f; text-decoration-color: #7fbf7f\">│   │   │   </span><span style=\"color: #008000; text-decoration-color: #008000\">'title'</span>: <span style=\"color: #008000; text-decoration-color: #008000\">'Weather in Frankfurt am Main, Hesse, DE'</span>,\n",
       "<span style=\"color: #7fbf7f; text-decoration-color: #7fbf7f\">│   │   │   </span><span style=\"color: #008000; text-decoration-color: #008000\">'url'</span>: <span style=\"color: #008000; text-decoration-color: #008000\">'https://www.weatherapi.com/'</span>,\n",
       "<span style=\"color: #7fbf7f; text-decoration-color: #7fbf7f\">│   │   │   </span><span style=\"color: #008000; text-decoration-color: #008000\">'content'</span>: <span style=\"color: #008000; text-decoration-color: #008000\">\"{'location': {'name': 'Frankfurt Am Main', 'region': 'Hessen', 'country': 'Germany', 'lat': 50.1167, 'lon': 8.6833, 'tz_id': 'Europe/Berlin', 'localtime_epoch': 1756084814, 'localtime': '2025-08-25 03:20'}, 'current': {'last_updated_epoch': 1756084500, 'last_updated': '2025-08-25 03:15', 'temp_c': 10.0, 'temp_f': 50.0, 'is_day': 0, 'condition': {'text': 'Clear', 'icon': '//cdn.weatherapi.com/weather/64x64/night/113.png', 'code': 1000}, 'wind_mph': 2.5, 'wind_kph': 4.0, 'wind_degree': 27, 'wind_dir': 'NNE', 'pressure_mb': 1020.0, 'pressure_in': 30.12, 'precip_mm': 0.0, 'precip_in': 0.0, 'humidity': 71, 'cloud': 0, 'feelslike_c': 10.1, 'feelslike_f': 50.2, 'windchill_c': 11.9, 'windchill_f': 53.3, 'heatindex_c': 11.6, 'heatindex_f': 52.8, 'dewpoint_c': 3.8, 'dewpoint_f': 38.9, 'vis_km': 10.0, 'vis_miles': 6.0, 'uv': 0.0, 'gust_mph': 4.9, 'gust_kph': 7.8}}\"</span>,\n",
       "<span style=\"color: #7fbf7f; text-decoration-color: #7fbf7f\">│   │   │   </span><span style=\"color: #008000; text-decoration-color: #008000\">'score'</span>: <span style=\"color: #008080; text-decoration-color: #008080; font-weight: bold\">0.7418937</span>,\n",
       "<span style=\"color: #7fbf7f; text-decoration-color: #7fbf7f\">│   │   │   </span><span style=\"color: #008000; text-decoration-color: #008000\">'raw_content'</span>: <span style=\"color: #800080; text-decoration-color: #800080; font-style: italic\">None</span>\n",
       "<span style=\"color: #7fbf7f; text-decoration-color: #7fbf7f\">│   │   </span><span style=\"font-weight: bold\">}</span>,\n",
       "<span style=\"color: #7fbf7f; text-decoration-color: #7fbf7f\">│   │   </span><span style=\"font-weight: bold\">{</span>\n",
       "<span style=\"color: #7fbf7f; text-decoration-color: #7fbf7f\">│   │   │   </span><span style=\"color: #008000; text-decoration-color: #008000\">'url'</span>: <span style=\"color: #008000; text-decoration-color: #008000\">'https://world-weather.info/forecast/germany/frankfurt_am_main/august-2025/'</span>,\n",
       "<span style=\"color: #7fbf7f; text-decoration-color: #7fbf7f\">│   │   │   </span><span style=\"color: #008000; text-decoration-color: #008000\">'title'</span>: <span style=\"color: #008000; text-decoration-color: #008000\">'Weather in Frankfurt am Main in August 2025 (Hesse)'</span>,\n",
       "<span style=\"color: #7fbf7f; text-decoration-color: #7fbf7f\">│   │   │   </span><span style=\"color: #008000; text-decoration-color: #008000\">'content'</span>: <span style=\"color: #008000; text-decoration-color: #008000\">'Missing: related risks DE'</span>,\n",
       "<span style=\"color: #7fbf7f; text-decoration-color: #7fbf7f\">│   │   │   </span><span style=\"color: #008000; text-decoration-color: #008000\">'score'</span>: <span style=\"color: #008080; text-decoration-color: #008080; font-weight: bold\">0.70944256</span>,\n",
       "<span style=\"color: #7fbf7f; text-decoration-color: #7fbf7f\">│   │   │   </span><span style=\"color: #008000; text-decoration-color: #008000\">'raw_content'</span>: <span style=\"color: #800080; text-decoration-color: #800080; font-style: italic\">None</span>\n",
       "<span style=\"color: #7fbf7f; text-decoration-color: #7fbf7f\">│   │   </span><span style=\"font-weight: bold\">}</span>,\n",
       "<span style=\"color: #7fbf7f; text-decoration-color: #7fbf7f\">│   │   </span><span style=\"font-weight: bold\">{</span>\n",
       "<span style=\"color: #7fbf7f; text-decoration-color: #7fbf7f\">│   │   │   </span><span style=\"color: #008000; text-decoration-color: #008000\">'url'</span>: <span style=\"color: #008000; text-decoration-color: #008000\">'https://www.weather2travel.com/germany/frankfurt/august/'</span>,\n",
       "<span style=\"color: #7fbf7f; text-decoration-color: #7fbf7f\">│   │   │   </span><span style=\"color: #008000; text-decoration-color: #008000\">'title'</span>: <span style=\"color: #008000; text-decoration-color: #008000\">'Frankfurt weather in August 2025 | Germany: How hot?'</span>,\n",
       "<span style=\"color: #7fbf7f; text-decoration-color: #7fbf7f\">│   │   │   </span><span style=\"color: #008000; text-decoration-color: #008000\">'content'</span>: <span style=\"color: #008000; text-decoration-color: #008000\">\"# Frankfurt weather in August 2025 Expect  **daytime maximum temperatures of 23°C** in **Frankfurt, Germany** in **August** based on long-term weather averages. The August weather guide for Germany (Frankfurt) shows long term weather averages processed from data supplied by **CRU (University of East Anglia)**, the **Met Office** &amp; the **Netherlands Meteorological Institute**. There are normally **7 hours** of bright sunshine each day in **Frankfurt** in **August** - that's **46% of daylight hours**. There are usually **14 days** with some rain in **Frankfurt** in **August** and the average monthly rainfall is **68mm**. ## Frankfurt August sunrise &amp; sunset times Browse the sunrise and sunset times for Frankfurt in August 2025. * Summer holidays * Holiday offers * Airport parking deals More holidays\"</span>,\n",
       "<span style=\"color: #7fbf7f; text-decoration-color: #7fbf7f\">│   │   │   </span><span style=\"color: #008000; text-decoration-color: #008000\">'score'</span>: <span style=\"color: #008080; text-decoration-color: #008080; font-weight: bold\">0.539833</span>,\n",
       "<span style=\"color: #7fbf7f; text-decoration-color: #7fbf7f\">│   │   │   </span><span style=\"color: #008000; text-decoration-color: #008000\">'raw_content'</span>: <span style=\"color: #800080; text-decoration-color: #800080; font-style: italic\">None</span>\n",
       "<span style=\"color: #7fbf7f; text-decoration-color: #7fbf7f\">│   │   </span><span style=\"font-weight: bold\">}</span>,\n",
       "<span style=\"color: #7fbf7f; text-decoration-color: #7fbf7f\">│   │   </span><span style=\"font-weight: bold\">{</span>\n",
       "<span style=\"color: #7fbf7f; text-decoration-color: #7fbf7f\">│   │   │   </span><span style=\"color: #008000; text-decoration-color: #008000\">'url'</span>: <span style=\"color: #008000; text-decoration-color: #008000\">'https://www.timeanddate.com/weather/@3220968/ext'</span>,\n",
       "<span style=\"color: #7fbf7f; text-decoration-color: #7fbf7f\">│   │   │   </span><span style=\"color: #008000; text-decoration-color: #008000\">'title'</span>: <span style=\"color: #008000; text-decoration-color: #008000\">'Frankfurt am Main, Hesse, Germany 14 day weather forecast'</span>,\n",
       "<span style=\"color: #7fbf7f; text-decoration-color: #7fbf7f\">│   │   │   </span><span style=\"color: #008000; text-decoration-color: #008000\">'content'</span>: <span style=\"color: #008000; text-decoration-color: #008000\">'2 Week Extended Forecast in Frankfurt am Main, Hesse, Germany. Increasing cloudiness. Mostly cloudy. Isolated tstorms late.'</span>,\n",
       "<span style=\"color: #7fbf7f; text-decoration-color: #7fbf7f\">│   │   │   </span><span style=\"color: #008000; text-decoration-color: #008000\">'score'</span>: <span style=\"color: #008080; text-decoration-color: #008080; font-weight: bold\">0.5201313</span>,\n",
       "<span style=\"color: #7fbf7f; text-decoration-color: #7fbf7f\">│   │   │   </span><span style=\"color: #008000; text-decoration-color: #008000\">'raw_content'</span>: <span style=\"color: #800080; text-decoration-color: #800080; font-style: italic\">None</span>\n",
       "<span style=\"color: #7fbf7f; text-decoration-color: #7fbf7f\">│   │   </span><span style=\"font-weight: bold\">}</span>,\n",
       "<span style=\"color: #7fbf7f; text-decoration-color: #7fbf7f\">│   │   </span><span style=\"font-weight: bold\">{</span>\n",
       "<span style=\"color: #7fbf7f; text-decoration-color: #7fbf7f\">│   │   │   </span><span style=\"color: #008000; text-decoration-color: #008000\">'url'</span>: <span style=\"color: #008000; text-decoration-color: #008000\">'https://weatherspark.com/h/y/61302/2025/Historical-Weather-during-2025-in-Frankfurt-am-Main-Hesse-Germany'</span>,\n",
       "<span style=\"color: #7fbf7f; text-decoration-color: #7fbf7f\">│   │   │   </span><span style=\"color: #008000; text-decoration-color: #008000\">'title'</span>: <span style=\"color: #008000; text-decoration-color: #008000\">'2025 Weather History in Frankfurt am Main Hesse, Germany'</span>,\n",
       "<span style=\"color: #7fbf7f; text-decoration-color: #7fbf7f\">│   │   │   </span><span style=\"color: #008000; text-decoration-color: #008000\">'content'</span>: <span style=\"color: #008000; text-decoration-color: #008000\">'Frankfurt am Main Temperature History 2025 Link  Download  Compare  Averages  History:202520242023202220212020201920182017    The daily range of reported temperatures (gray bars) and 24-hour highs (red ticks) and lows (blue ticks), placed over the daily average high (faint red line) and low (faint blue line) temperature, with 25th to 75th and 10th to 90th percentile bands. Hourly Temperature in 2025 in Frankfurt am Main Link  Download  Compare  Averages  History:202520242023202220212020201920182017    *frigid*   *15°F* *freezing*   *32°F* *very cold*   *45°F* *cold*   *55°F* *cool*   *65°F* *comfortable*   *75°F* *warm*   *85°F* *hot*   *95°F* *sweltering*  The hourly reported temperature, color coded into bands. Hours of Daylight and Twilight in 2025 in Frankfurt am Main Link  Download  Compare  Averages  History:202520242023202220212020201920182017    The number of hours during which the Sun is visible (black line). Hourly Wind Direction in 2025 in Frankfurt am Main Link  Download  Compare  Averages  History:202520242023202220212020201920182017    *calm**north**east**south**west*  The hourly reported wind direction, color coded by compass point.'</span>,\n",
       "<span style=\"color: #7fbf7f; text-decoration-color: #7fbf7f\">│   │   │   </span><span style=\"color: #008000; text-decoration-color: #008000\">'score'</span>: <span style=\"color: #008080; text-decoration-color: #008080; font-weight: bold\">0.4808937</span>,\n",
       "<span style=\"color: #7fbf7f; text-decoration-color: #7fbf7f\">│   │   │   </span><span style=\"color: #008000; text-decoration-color: #008000\">'raw_content'</span>: <span style=\"color: #800080; text-decoration-color: #800080; font-style: italic\">None</span>\n",
       "<span style=\"color: #7fbf7f; text-decoration-color: #7fbf7f\">│   │   </span><span style=\"font-weight: bold\">}</span>\n",
       "<span style=\"color: #7fbf7f; text-decoration-color: #7fbf7f\">│   </span><span style=\"font-weight: bold\">]</span>\n",
       "<span style=\"font-weight: bold\">}</span>\n",
       "</pre>\n"
      ],
      "text/plain": [
       "\u001b[1m{\u001b[0m\n",
       "\u001b[2;32m│   \u001b[0m\u001b[32m'query'\u001b[0m: \u001b[32m'weather-related risks in Frankfurt am Main, Hesse, DE'\u001b[0m,\n",
       "\u001b[2;32m│   \u001b[0m\u001b[32m'top_k'\u001b[0m: \u001b[1m[\u001b[0m\n",
       "\u001b[2;32m│   │   \u001b[0m\u001b[1m{\u001b[0m\n",
       "\u001b[2;32m│   │   │   \u001b[0m\u001b[32m'title'\u001b[0m: \u001b[32m'Weather in Frankfurt am Main, Hesse, DE'\u001b[0m,\n",
       "\u001b[2;32m│   │   │   \u001b[0m\u001b[32m'url'\u001b[0m: \u001b[32m'https://www.weatherapi.com/'\u001b[0m,\n",
       "\u001b[2;32m│   │   │   \u001b[0m\u001b[32m'content'\u001b[0m: \u001b[32m\"\u001b[0m\u001b[32m{\u001b[0m\u001b[32m'location': \u001b[0m\u001b[32m{\u001b[0m\u001b[32m'name': 'Frankfurt Am Main', 'region': 'Hessen', 'country': 'Germany', 'lat': 50.1167, 'lon': 8.6833, 'tz_id': 'Europe/Berlin', 'localtime_epoch': 1756084814, 'localtime': '2025-08-25 03:20'\u001b[0m\u001b[32m}\u001b[0m\u001b[32m, 'current': \u001b[0m\u001b[32m{\u001b[0m\u001b[32m'last_updated_epoch': 1756084500, 'last_updated': '2025-08-25 03:15', 'temp_c': 10.0, 'temp_f': 50.0, 'is_day': 0, 'condition': \u001b[0m\u001b[32m{\u001b[0m\u001b[32m'text': 'Clear', 'icon': '//cdn.weatherapi.com/weather/64x64/night/113.png', 'code': 1000\u001b[0m\u001b[32m}\u001b[0m\u001b[32m, 'wind_mph': 2.5, 'wind_kph': 4.0, 'wind_degree': 27, 'wind_dir': 'NNE', 'pressure_mb': 1020.0, 'pressure_in': 30.12, 'precip_mm': 0.0, 'precip_in': 0.0, 'humidity': 71, 'cloud': 0, 'feelslike_c': 10.1, 'feelslike_f': 50.2, 'windchill_c': 11.9, 'windchill_f': 53.3, 'heatindex_c': 11.6, 'heatindex_f': 52.8, 'dewpoint_c': 3.8, 'dewpoint_f': 38.9, 'vis_km': 10.0, 'vis_miles': 6.0, 'uv': 0.0, 'gust_mph': 4.9, 'gust_kph': 7.8\u001b[0m\u001b[32m}\u001b[0m\u001b[32m}\u001b[0m\u001b[32m\"\u001b[0m,\n",
       "\u001b[2;32m│   │   │   \u001b[0m\u001b[32m'score'\u001b[0m: \u001b[1;36m0.7418937\u001b[0m,\n",
       "\u001b[2;32m│   │   │   \u001b[0m\u001b[32m'raw_content'\u001b[0m: \u001b[3;35mNone\u001b[0m\n",
       "\u001b[2;32m│   │   \u001b[0m\u001b[1m}\u001b[0m,\n",
       "\u001b[2;32m│   │   \u001b[0m\u001b[1m{\u001b[0m\n",
       "\u001b[2;32m│   │   │   \u001b[0m\u001b[32m'url'\u001b[0m: \u001b[32m'https://world-weather.info/forecast/germany/frankfurt_am_main/august-2025/'\u001b[0m,\n",
       "\u001b[2;32m│   │   │   \u001b[0m\u001b[32m'title'\u001b[0m: \u001b[32m'Weather in Frankfurt am Main in August 2025 \u001b[0m\u001b[32m(\u001b[0m\u001b[32mHesse\u001b[0m\u001b[32m)\u001b[0m\u001b[32m'\u001b[0m,\n",
       "\u001b[2;32m│   │   │   \u001b[0m\u001b[32m'content'\u001b[0m: \u001b[32m'Missing: related risks DE'\u001b[0m,\n",
       "\u001b[2;32m│   │   │   \u001b[0m\u001b[32m'score'\u001b[0m: \u001b[1;36m0.70944256\u001b[0m,\n",
       "\u001b[2;32m│   │   │   \u001b[0m\u001b[32m'raw_content'\u001b[0m: \u001b[3;35mNone\u001b[0m\n",
       "\u001b[2;32m│   │   \u001b[0m\u001b[1m}\u001b[0m,\n",
       "\u001b[2;32m│   │   \u001b[0m\u001b[1m{\u001b[0m\n",
       "\u001b[2;32m│   │   │   \u001b[0m\u001b[32m'url'\u001b[0m: \u001b[32m'https://www.weather2travel.com/germany/frankfurt/august/'\u001b[0m,\n",
       "\u001b[2;32m│   │   │   \u001b[0m\u001b[32m'title'\u001b[0m: \u001b[32m'Frankfurt weather in August 2025 | Germany: How hot?'\u001b[0m,\n",
       "\u001b[2;32m│   │   │   \u001b[0m\u001b[32m'content'\u001b[0m: \u001b[32m\"# Frankfurt weather in August 2025 Expect  **daytime maximum temperatures of 23°C** in **Frankfurt, Germany** in **August** based on long-term weather averages. The August weather guide for Germany \u001b[0m\u001b[32m(\u001b[0m\u001b[32mFrankfurt\u001b[0m\u001b[32m)\u001b[0m\u001b[32m shows long term weather averages processed from data supplied by **CRU \u001b[0m\u001b[32m(\u001b[0m\u001b[32mUniversity of East Anglia\u001b[0m\u001b[32m)\u001b[0m\u001b[32m**, the **Met Office** & the **Netherlands Meteorological Institute**. There are normally **7 hours** of bright sunshine each day in **Frankfurt** in **August** - that's **46% of daylight hours**. There are usually **14 days** with some rain in **Frankfurt** in **August** and the average monthly rainfall is **68mm**. ## Frankfurt August sunrise & sunset times Browse the sunrise and sunset times for Frankfurt in August 2025. * Summer holidays * Holiday offers * Airport parking deals More holidays\"\u001b[0m,\n",
       "\u001b[2;32m│   │   │   \u001b[0m\u001b[32m'score'\u001b[0m: \u001b[1;36m0.539833\u001b[0m,\n",
       "\u001b[2;32m│   │   │   \u001b[0m\u001b[32m'raw_content'\u001b[0m: \u001b[3;35mNone\u001b[0m\n",
       "\u001b[2;32m│   │   \u001b[0m\u001b[1m}\u001b[0m,\n",
       "\u001b[2;32m│   │   \u001b[0m\u001b[1m{\u001b[0m\n",
       "\u001b[2;32m│   │   │   \u001b[0m\u001b[32m'url'\u001b[0m: \u001b[32m'https://www.timeanddate.com/weather/@3220968/ext'\u001b[0m,\n",
       "\u001b[2;32m│   │   │   \u001b[0m\u001b[32m'title'\u001b[0m: \u001b[32m'Frankfurt am Main, Hesse, Germany 14 day weather forecast'\u001b[0m,\n",
       "\u001b[2;32m│   │   │   \u001b[0m\u001b[32m'content'\u001b[0m: \u001b[32m'2 Week Extended Forecast in Frankfurt am Main, Hesse, Germany. Increasing cloudiness. Mostly cloudy. Isolated tstorms late.'\u001b[0m,\n",
       "\u001b[2;32m│   │   │   \u001b[0m\u001b[32m'score'\u001b[0m: \u001b[1;36m0.5201313\u001b[0m,\n",
       "\u001b[2;32m│   │   │   \u001b[0m\u001b[32m'raw_content'\u001b[0m: \u001b[3;35mNone\u001b[0m\n",
       "\u001b[2;32m│   │   \u001b[0m\u001b[1m}\u001b[0m,\n",
       "\u001b[2;32m│   │   \u001b[0m\u001b[1m{\u001b[0m\n",
       "\u001b[2;32m│   │   │   \u001b[0m\u001b[32m'url'\u001b[0m: \u001b[32m'https://weatherspark.com/h/y/61302/2025/Historical-Weather-during-2025-in-Frankfurt-am-Main-Hesse-Germany'\u001b[0m,\n",
       "\u001b[2;32m│   │   │   \u001b[0m\u001b[32m'title'\u001b[0m: \u001b[32m'2025 Weather History in Frankfurt am Main Hesse, Germany'\u001b[0m,\n",
       "\u001b[2;32m│   │   │   \u001b[0m\u001b[32m'content'\u001b[0m: \u001b[32m'Frankfurt am Main Temperature History 2025 Link  Download  Compare  Averages  History:202520242023202220212020201920182017    The daily range of reported temperatures \u001b[0m\u001b[32m(\u001b[0m\u001b[32mgray bars\u001b[0m\u001b[32m)\u001b[0m\u001b[32m and 24-hour highs \u001b[0m\u001b[32m(\u001b[0m\u001b[32mred ticks\u001b[0m\u001b[32m)\u001b[0m\u001b[32m and lows \u001b[0m\u001b[32m(\u001b[0m\u001b[32mblue ticks\u001b[0m\u001b[32m)\u001b[0m\u001b[32m, placed over the daily average high \u001b[0m\u001b[32m(\u001b[0m\u001b[32mfaint red line\u001b[0m\u001b[32m)\u001b[0m\u001b[32m and low \u001b[0m\u001b[32m(\u001b[0m\u001b[32mfaint blue line\u001b[0m\u001b[32m)\u001b[0m\u001b[32m temperature, with 25th to 75th and 10th to 90th percentile bands. Hourly Temperature in 2025 in Frankfurt am Main Link  Download  Compare  Averages  History:202520242023202220212020201920182017    *frigid*   *15°F* *freezing*   *32°F* *very cold*   *45°F* *cold*   *55°F* *cool*   *65°F* *comfortable*   *75°F* *warm*   *85°F* *hot*   *95°F* *sweltering*  The hourly reported temperature, color coded into bands. Hours of Daylight and Twilight in 2025 in Frankfurt am Main Link  Download  Compare  Averages  History:202520242023202220212020201920182017    The number of hours during which the Sun is visible \u001b[0m\u001b[32m(\u001b[0m\u001b[32mblack line\u001b[0m\u001b[32m)\u001b[0m\u001b[32m. Hourly Wind Direction in 2025 in Frankfurt am Main Link  Download  Compare  Averages  History:202520242023202220212020201920182017    *calm**north**east**south**west*  The hourly reported wind direction, color coded by compass point.'\u001b[0m,\n",
       "\u001b[2;32m│   │   │   \u001b[0m\u001b[32m'score'\u001b[0m: \u001b[1;36m0.4808937\u001b[0m,\n",
       "\u001b[2;32m│   │   │   \u001b[0m\u001b[32m'raw_content'\u001b[0m: \u001b[3;35mNone\u001b[0m\n",
       "\u001b[2;32m│   │   \u001b[0m\u001b[1m}\u001b[0m\n",
       "\u001b[2;32m│   \u001b[0m\u001b[1m]\u001b[0m\n",
       "\u001b[1m}\u001b[0m\n"
      ]
     },
     "metadata": {},
     "output_type": "display_data"
    },
    {
     "name": "stdout",
     "output_type": "stream",
     "text": [
      "\n",
      "---------- 📍 Step 5: InferenceStep ----------\n",
      "🤖 Model Response:\n",
      "\u001b[35m{\n",
      "    \"thought\": \"Based on the search results, there are no immediate weather-related risks in Frankfurt am Main, Hesse, DE that could disrupt network connectivity or system availability. The weather is mostly cloudy with isolated thunderstorms late.\",\n",
      "    \"action\": null,\n",
      "    \"answer\": \"There are no immediate weather-related risks in Frankfurt am Main, Hesse, DE that could disrupt network connectivity or system availability. The weather is mostly cloudy with isolated thunderstorms late.\"\n",
      "}\n",
      "\u001b[0m\n",
      "========== Query processing completed ========== \n",
      "\n"
     ]
    }
   ],
   "source": [
    "agent = ReActAgent(\n",
    "            client=client,\n",
    "            model=model_id,\n",
    "            tools=[get_location, \"builtin::websearch\"],\n",
    "            response_format={\n",
    "                \"type\": \"json_schema\",\n",
    "                \"json_schema\": ReActOutput.model_json_schema(),\n",
    "            },\n",
    "            sampling_params=sampling_params,\n",
    "        )\n",
    "user_prompts = [\n",
    "    \"Are there any immediate weather-related risks in my area that could disrupt network connectivity or system availability?\"\n",
    "]\n",
    "session_id = agent.create_session(\"web-session\")\n",
    "for prompt in user_prompts:\n",
    "    print(\"\\n\"+\"=\"*50)\n",
    "    cprint(f\"Processing user query: {prompt}\", \"blue\")\n",
    "    print(\"=\"*50)\n",
    "    response = agent.create_turn(\n",
    "        messages=[\n",
    "            {\n",
    "                \"role\": \"user\",\n",
    "                \"content\": prompt,\n",
    "            }\n",
    "        ],\n",
    "        session_id=session_id,\n",
    "        stream=stream\n",
    "    )\n",
    "    if stream:\n",
    "        for log in EventLogger().log(response):\n",
    "            log.print()\n",
    "    else:\n",
    "        step_printer(response.steps) # print the steps of an agent's response in a formatted way. "
   ]
  },
  {
   "cell_type": "markdown",
   "metadata": {},
   "source": [
    "## Key Takeaways\n",
    "- This notebook demonstrated how to build more capable agents using Prompt Chaining and the ReAct framework.\n",
    "- It showed how agents can maintain context across multiple steps and perform structured, multi-step reasoning.\n",
    "- It highlights how ReAct enables dynamic tool selection and adaptive decision-making based on intermediate results.\n",
    "- These techniques enhance agent autonomy and make them more suitable for complex operational tasks.\n",
    "\n",
    "For further extensions, continue exploring in the next notebook: [RAG Agents](Level4_RAG_agent.ipynb)."
   ]
  },
  {
   "cell_type": "markdown",
   "metadata": {},
   "source": [
    "#### Any Feedback?\n",
    "\n",
    "If you have any feedback on this or any other notebook in this demo series we'd love to hear it! Please go to https://www.feedback.redhat.com/jfe/form/SV_8pQsoy0U9Ccqsvk and help us improve our demos. "
   ]
  },
  {
   "cell_type": "code",
   "execution_count": null,
   "metadata": {},
   "outputs": [],
   "source": []
  }
 ],
 "metadata": {
  "kernelspec": {
   "display_name": "Python 3.11",
   "language": "python",
   "name": "python3"
  },
  "language_info": {
   "codemirror_mode": {
    "name": "ipython",
    "version": 3
   },
   "file_extension": ".py",
   "mimetype": "text/x-python",
   "name": "python",
   "nbconvert_exporter": "python",
   "pygments_lexer": "ipython3",
   "version": "3.11.11"
  }
 },
 "nbformat": 4,
 "nbformat_minor": 4
}
